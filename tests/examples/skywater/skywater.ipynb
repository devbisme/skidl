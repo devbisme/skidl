{
 "cells": [
  {
   "cell_type": "code",
   "execution_count": 1,
   "metadata": {
    "ExecuteTime": {
     "end_time": "2021-04-30T19:52:03.045285Z",
     "start_time": "2021-04-30T19:52:03.026767Z"
    }
   },
   "outputs": [],
   "source": [
    "from IPython.core.display import HTML\n",
    "HTML(open(\"custom.css\", \"r\").read())"
   ]
  },
  {
   "cell_type": "markdown",
   "metadata": {
    "toc": true
   },
   "source": [
    "<h1>Table of Contents<span class=\"tocSkip\"></span></h1>\n",
    "<div class=\"toc\"><ul class=\"toc-item\"><li><span><a href=\"#From-Transistors-to-ALUs-With-Skywater\" data-toc-modified-id=\"From-Transistors-to-ALUs-With-Skywater-1\">From Transistors to ALUs With Skywater</a></span><ul class=\"toc-item\"><li><span><a href=\"#Installing-Some-Tools\" data-toc-modified-id=\"Installing-Some-Tools-1.1\">Installing Some Tools</a></span></li><li><span><a href=\"#Getting-the-Skywater-PDK\" data-toc-modified-id=\"Getting-the-Skywater-PDK-1.2\">Getting the Skywater PDK</a></span></li><li><span><a href=\"#Some-Infrastructure\" data-toc-modified-id=\"Some-Infrastructure-1.3\">Some Infrastructure</a></span></li><li><span><a href=\"#The-Simplest:-the-Inverter\" data-toc-modified-id=\"The-Simplest:-the-Inverter-1.4\">The Simplest: the Inverter</a></span></li><li><span><a href=\"#The-Universal:-the-NAND-Gate\" data-toc-modified-id=\"The-Universal:-the-NAND-Gate-1.5\">The Universal: the NAND Gate</a></span></li><li><span><a href=\"#One-or-the-Other:-the-XOR-Gate\" data-toc-modified-id=\"One-or-the-Other:-the-XOR-Gate-1.6\">One or the Other: the XOR Gate</a></span></li><li><span><a href=\"#No,-It's-Not-a-Snake:-The-Adder\" data-toc-modified-id=\"No,-It's-Not-a-Snake:-The-Adder-1.7\">No, It's Not a Snake: The Adder</a></span></li><li><span><a href=\"#Fragments-of-Memory:-Latches,-Flip-Flops-and-Registers\" data-toc-modified-id=\"Fragments-of-Memory:-Latches,-Flip-Flops-and-Registers-1.8\">Fragments of Memory: Latches, Flip-Flops and Registers</a></span></li><li><span><a href=\"#The-Simplest-State-Machine:-the-Counter\" data-toc-modified-id=\"The-Simplest-State-Machine:-the-Counter-1.9\">The Simplest State Machine: the Counter</a></span></li><li><span><a href=\"#Bonus:-an-ALU\" data-toc-modified-id=\"Bonus:-an-ALU-1.10\">Bonus: an ALU</a></span></li><li><span><a href=\"#Extra-Bonus:-a-Down-Counter\" data-toc-modified-id=\"Extra-Bonus:-a-Down-Counter-1.11\">Extra Bonus: a Down Counter</a></span></li><li><span><a href=\"#End-of-the-Line\" data-toc-modified-id=\"End-of-the-Line-1.12\">End of the Line</a></span></li></ul></li></ul></div>"
   ]
  },
  {
   "cell_type": "markdown",
   "metadata": {},
   "source": [
    "# From Transistors to ALUs With Skywater\n",
    "\n",
    "[Google and SkyWater Technology](https://woset-workshop.github.io/PDFs/2020/a03.pdf) are cooperating to provide open-source hardware designers with a way to build custom ASICs. Part of this effort is the release of the [SkyWater PDK](https://github.com/google/skywater-pdk) which describes the parameters for a 130nm CMOS process. I thought it might be fun to simulate a few logic gates in SPICE using this PDK."
   ]
  },
  {
   "cell_type": "markdown",
   "metadata": {},
   "source": [
    "## Installing Some Tools\n",
    "\n",
    "[This repo](https://github.com/bluecmd/learn-sky130/blob/main/schematic/xschem/getting-started.md) provided some guidance when I first started investigating the PDK, but it uses external tools like [XSCHEM](http://repo.hu/projects/xschem/) (for schematic capture) and [GAW](https://gaw.tuxfamily.org/linux/gaw.php) (for displaying waveforms). To make my work easier to replicate and distribute, I wanted everything to be done in a Jupyter notebook. It wasn't immediately apparent how I would integrate XSCHEM/GAW into a notebook and [schematics shouldn't be used in polite company](https://www.youtube.com/watch?v=WErQYI2A36M&list=PLy2022BX6EsqLkQy1EmXjVnauOH3FSHTV&index=3&t=257s) any way, so I took a more Python-centric approach and used these tools:\n",
    "\n",
    "* [ngspice](http://ngspice.sourceforge.net/): An open-source SPICE simulator.\n",
    "* [SciPy bundle](https://www.scipy.org/index.html): General-purpose Python libraries for handling data.\n",
    "* [SKiDL](https://github.com/xesscorp/skidl): Used to describe circuitry using Python code.\n",
    "* [PySpice](https://github.com/FabriceSalvaire/PySpice): A Python interface between SKiDL and ngspice.\n",
    "\n",
    "Pre-built versions of ngspice are available for Windows and MacOS. For linux, I got the latest ngspice files (version 33) from [here](https://sourceforge.net/projects/ngspice/files/ng-spice-rework/33/), unpacked it into the `ngspice-33` directory, and built it using the instructions in the INSTALL file:\n",
    "\n",
    "```bash\n",
    "$ cd ngspice-33\n",
    "$ mkdir release\n",
    "$ cd release\n",
    "$ ../configure --with-x --enable-xspice --disable-debug --enable-cider --with-readline=yes --enable-openmp\n",
    "$ make 2>&1 | tee make.log\n",
    "$ sudo make install\n",
    "```\n",
    "\n",
    "Installing the SciPy tools was also easy since I already had Python:\n",
    "```bash\n",
    "$ pip install matplotlib numpy pandas jupyter \n",
    "```\n",
    "\n",
    "I couldn't use the PyPi versions of PySpice and SKiDL because they had to be modified to make them work with the Skywater PDK. If you want to run this notebook, you'll need to install the development versions of those from GitHub:\n",
    "\n",
    "```bash\n",
    "$ pip install git+https://github.com/xesscorp/PySpice\n",
    "$ pip install git+https://github.com/xesscorp/skidl@development\n",
    "```"
   ]
  },
  {
   "cell_type": "markdown",
   "metadata": {},
   "source": [
    "Once all these tools were installed, I imported them into this notebook:"
   ]
  },
  {
   "cell_type": "code",
   "execution_count": 2,
   "metadata": {
    "ExecuteTime": {
     "end_time": "2021-04-30T19:52:03.977351Z",
     "start_time": "2021-04-30T19:52:03.047948Z"
    }
   },
   "outputs": [
    {
     "name": "stderr",
     "output_type": "stream",
     "text": [
      "WARNING: KICAD_SYMBOL_DIR environment variable is missing, so the default KiCad symbol libraries won't be searched.\n"
     ]
    }
   ],
   "source": [
    "import pandas as pd              # For data frames.\n",
    "import matplotlib.pyplot as plt  # For plotting.\n",
    "from skidl.pyspice import *      # For describing circuits and interfacing to ngspice."
   ]
  },
  {
   "cell_type": "markdown",
   "metadata": {},
   "source": [
    "## Getting the Skywater PDK\n",
    "\n",
    "With the tooling in place, it was time to get the Skywater PDK. If I wanted to wait a *long time*, I could install the entire PDK like this:\n",
    "```bash\n",
    "$ git clone --recurse-submodules https://github.com/google/skywater-pdk\n",
    "```\n",
    "\n",
    "But I don't need *everything*, just the latest SPICE models for the device primitives, so the following command is much quicker: \n",
    "\n",
    "```bash\n",
    "$ git clone --recurse-submodules=libraries/sky130_fd_pr/latest https://github.com/google/skywater-pdk\n",
    "```\n",
    "\n",
    "Thers is an error in the pdk in the follwoing file line 16. comment out that line. new versions of ngspice are sensetive to syntax.\n",
    "/home/asepahvand/repos/skywater-pdk/libraries/sky130_fd_pr/latest/cells/nfet_05v0_nvt/sky130_fd_pr__nfet_05v0_nvt.pm3.spice\n",
    "\n",
    "*include \"sky130_fd_pr__esd_nfet_05v0_nvt.pm3\""
   ]
  },
  {
   "cell_type": "markdown",
   "metadata": {},
   "source": [
    "Even with a stripped-down repo, there's a lot of stuff in there. The [Skywater documentation](https://skywater-pdk.readthedocs.io/en/latest/index.html) provides some guidance, but there are a lot of sections that just contain **TODO**. Poking about in the PDK led me to these directories of device information files as decribed [here](https://skywater-pdk.readthedocs.io/en/latest/rules/device-details.html):"
   ]
  },
  {
   "cell_type": "code",
   "execution_count": 3,
   "metadata": {
    "ExecuteTime": {
     "end_time": "2021-04-30T19:52:04.144561Z",
     "start_time": "2021-04-30T19:52:03.981176Z"
    }
   },
   "outputs": [
    {
     "name": "stdout",
     "output_type": "stream",
     "text": [
      "cap_mim_m3/\t\t\t\t      esd_rf_diode_pd2nw_11v0/\r\n",
      "cap_var_hvt/\t\t\t\t      esd_rf_diode_pw2nd_11v0/\r\n",
      "cap_var_lvt/\t\t\t\t      esd_rf_nfet_20v0_hbm/\r\n",
      "cap_vpp_01p8x01p8_m1m2_noshield/\t      esd_rf_nfet_20v0_iec/\r\n",
      "cap_vpp_02p4x04p6_m1m2_noshield/\t      ind_03/\r\n",
      "cap_vpp_02p7x06p1_m1m2m3m4_shieldl1/\t      ind_05/\r\n",
      "cap_vpp_02p7x11p1_m1m2m3m4_shieldl1/\t      nfet_01v8/\r\n",
      "cap_vpp_02p7x21p1_m1m2m3m4_shieldl1/\t      nfet_01v8_lvt/\r\n",
      "cap_vpp_02p7x41p1_m1m2m3m4_shieldl1/\t      nfet_03v3_nvt/\r\n",
      "cap_vpp_02p9x06p1_m1m2m3m4_shieldl1/\t      nfet_05v0_nvt/\r\n",
      "cap_vpp_03p9x03p9_m1m2_shieldl1_floatm3/      nfet_20v0/\r\n",
      "cap_vpp_04p4x04p6_l1m1m2_noshield/\t      nfet_20v0_iso/\r\n",
      "cap_vpp_04p4x04p6_l1m1m2_shieldpo_floatm3/    nfet_20v0_nvt/\r\n",
      "cap_vpp_04p4x04p6_m1m2m3_shieldl1/\t      nfet_20v0_nvt_iso/\r\n",
      "cap_vpp_04p4x04p6_m1m2m3_shieldl1m5_floatm4/  nfet_20v0_reverse_iso/\r\n",
      "cap_vpp_04p4x04p6_m1m2_noshield/\t      nfet_20v0_zvt/\r\n",
      "cap_vpp_04p4x04p6_m1m2_shieldl1/\t      nfet_g5v0d10v5/\r\n",
      "cap_vpp_05p9x05p9_m1m2m3m4_shieldl1/\t      nfet_g5v0d16v0/\r\n",
      "cap_vpp_06p8x06p1_l1m1m2m3_shieldpom4/\t      npn_05v5/\r\n",
      "cap_vpp_06p8x06p1_m1m2m3_shieldl1m4/\t      npn_11v0/\r\n",
      "cap_vpp_08p6x07p8_l1m1m2_noshield/\t      nwdiode_top/\r\n",
      "cap_vpp_08p6x07p8_l1m1m2_shieldpo_floatm3/    pfet_01v8/\r\n",
      "cap_vpp_08p6x07p8_m1m2m3_shieldl1/\t      pfet_01v8_hvt/\r\n",
      "cap_vpp_08p6x07p8_m1m2m3_shieldl1m5_floatm4/  pfet_01v8_lvt/\r\n",
      "cap_vpp_08p6x07p8_m1m2_noshield/\t      pfet_01v8_mvt/\r\n",
      "cap_vpp_08p6x07p8_m1m2_shieldl1/\t      pfet_20v0/\r\n",
      "cap_vpp_11p3x11p3_m1m2m3m4_shieldl1/\t      pfet_g5v0d10v5/\r\n",
      "cap_vpp_11p3x11p8_l1m1m2m3m4_shieldm5/\t      pfet_g5v0d16v0/\r\n",
      "cap_vpp_11p5x11p7_l1m1m2m3m4_shieldm5/\t      pnp_05v5/\r\n",
      "cap_vpp_11p5x11p7_l1m1m2m3m4_shieldpom5/      res_generic_nd/\r\n",
      "cap_vpp_11p5x11p7_l1m1m2m3_shieldm4/\t      res_generic_pd/\r\n",
      "cap_vpp_11p5x11p7_l1m1m2m3_shieldpom4/\t      res_high_po/\r\n",
      "cap_vpp_11p5x11p7_l1m1m2_noshield/\t      res_iso_pw/\r\n",
      "cap_vpp_11p5x11p7_l1m1m2_shieldpom3/\t      res_xhigh_po/\r\n",
      "cap_vpp_11p5x11p7_m1m2m3m4_shieldl1m5/\t      rf_aura_blocking/\r\n",
      "cap_vpp_11p5x11p7_m1m2m3m4_shieldm5/\t      rf_aura_drc_flag_check/\r\n",
      "cap_vpp_11p5x11p7_m1m2m3_shieldl1/\t      rf_aura_lvs_drc/\r\n",
      "cap_vpp_11p5x11p7_m1m2m3_shieldl1m5_floatm4/  rf_nfet_01v8/\r\n",
      "cap_vpp_11p5x11p7_m1m2_noshield/\t      rf_nfet_01v8_lvt/\r\n",
      "cap_vpp_11p5x11p7_m1m2_shieldl1/\t      rf_nfet_20v0_aup/\r\n",
      "cap_vpp_11p5x11p7_m1m4_noshield/\t      rf_nfet_20v0_noptap_iso/\r\n",
      "cap_vpp_11p5x11p7_pol1m1m2m3m4m5_noshield/    rf_nfet_20v0_nvt_aup/\r\n",
      "cap_vpp_11p5x23p1_pol1m1m2m3m4m5_noshield/    rf_nfet_20v0_nvt_noptap_iso/\r\n",
      "cap_vpp_22p5x11p7_pol1m1m2m3m4m5_noshield/    rf_nfet_20v0_nvt_withptap/\r\n",
      "cap_vpp_22p5x23p1_pol1m1m2m3m4m5_noshield/    rf_nfet_20v0_nvt_withptap_iso/\r\n",
      "cap_vpp_33p6x11p7_pol1m1m2m3m4m5_noshield/    rf_nfet_20v0_withptap/\r\n",
      "cap_vpp_33p6x23p1_pol1m1m2m3m4m5_noshield/    rf_nfet_20v0_withptap_iso/\r\n",
      "cap_vpp_44p7x11p7_pol1m1m2m3m4m5_noshield/    rf_nfet_20v0_zvt_withptap/\r\n",
      "cap_vpp_44p7x23p1_pol1m1m2m3m4m5_noshield/    rf_nfet_g5v0d10v5/\r\n",
      "cap_vpp_55p8x11p7_pol1m1m2m3m4m5_noshield/    rf_npn_05v5/\r\n",
      "cap_vpp_55p8x23p1_pol1m1m2m3m4m5_noshield/    rf_pfet_01v8/\r\n",
      "diode_pd2nw_05v5/\t\t\t      rf_pfet_01v8_lvt/\r\n",
      "diode_pd2nw_05v5_hvt/\t\t\t      rf_pfet_01v8_mvt/\r\n",
      "diode_pd2nw_05v5_lvt/\t\t\t      rf_pfet_20v0_withptap/\r\n",
      "diode_pd2nw_11v0/\t\t\t      rf_test_coil1/\r\n",
      "diode_pw2nd_05v5/\t\t\t      rf_test_coil2/\r\n",
      "diode_pw2nd_05v5_lvt/\t\t\t      rf_test_coil3/\r\n",
      "diode_pw2nd_05v5_nvt/\t\t\t      special_nfet_latch/\r\n",
      "diode_pw2nd_11v0/\t\t\t      special_nfet_pass/\r\n",
      "esd_nfet_01v8/\t\t\t\t      special_nfet_pass_flash/\r\n",
      "esd_nfet_05v0_nvt/\t\t\t      special_nfet_pass_lvt/\r\n",
      "esd_nfet_g5v0d10v5/\t\t\t      special_pfet_pass/\r\n",
      "esd_pfet_g5v0d10v5/\r\n"
     ]
    }
   ],
   "source": [
    "!ls -F ~/tmp/skywater-pdk/libraries/sky130_fd_pr/latest/cells/"
   ]
  },
  {
   "cell_type": "markdown",
   "metadata": {},
   "source": [
    "For my purposes, I only needed a simple NFET and PFET to build some logic gates. I figured 1.8V versions of these would be found in the `nfet_01v8` and `pfet_01v8` subdirectories, but I wasn't expecting all these files:"
   ]
  },
  {
   "cell_type": "code",
   "execution_count": 4,
   "metadata": {
    "ExecuteTime": {
     "end_time": "2021-04-30T19:52:04.287701Z",
     "start_time": "2021-04-30T19:52:04.147809Z"
    }
   },
   "outputs": [
    {
     "name": "stdout",
     "output_type": "stream",
     "text": [
      "sky130_fd_pr__nfet_01v8_aM02W1p65L0p15.cdl*\r\n",
      "sky130_fd_pr__nfet_01v8_aM02W1p65L0p15.netlist.tsv*\r\n",
      "sky130_fd_pr__nfet_01v8_aM02W1p65L0p18.cdl*\r\n",
      "sky130_fd_pr__nfet_01v8_aM02W1p65L0p18.netlist.tsv*\r\n",
      "sky130_fd_pr__nfet_01v8_aM02W1p65L0p25.cdl*\r\n",
      "sky130_fd_pr__nfet_01v8_aM02W1p65L0p25.netlist.tsv*\r\n",
      "sky130_fd_pr__nfet_01v8_aM02W3p00L0p15.cdl*\r\n",
      "sky130_fd_pr__nfet_01v8_aM02W3p00L0p15.netlist.tsv*\r\n",
      "sky130_fd_pr__nfet_01v8_aM02W3p00L0p18.cdl*\r\n",
      "sky130_fd_pr__nfet_01v8_aM02W3p00L0p18.netlist.tsv*\r\n",
      "sky130_fd_pr__nfet_01v8_aM02W3p00L0p25.cdl*\r\n",
      "sky130_fd_pr__nfet_01v8_aM02W3p00L0p25.netlist.tsv*\r\n",
      "sky130_fd_pr__nfet_01v8_aM02W5p00L0p15.cdl*\r\n",
      "sky130_fd_pr__nfet_01v8_aM02W5p00L0p15.netlist.tsv*\r\n",
      "sky130_fd_pr__nfet_01v8_aM02W5p00L0p18.cdl*\r\n",
      "sky130_fd_pr__nfet_01v8_aM02W5p00L0p18.netlist.tsv*\r\n",
      "sky130_fd_pr__nfet_01v8_aM02W5p00L0p25.cdl*\r\n",
      "sky130_fd_pr__nfet_01v8_aM02W5p00L0p25.netlist.tsv*\r\n",
      "sky130_fd_pr__nfet_01v8_aM04W1p65L0p15.cdl*\r\n",
      "sky130_fd_pr__nfet_01v8_aM04W1p65L0p15.netlist.tsv*\r\n",
      "sky130_fd_pr__nfet_01v8_aM04W1p65L0p18.cdl*\r\n",
      "sky130_fd_pr__nfet_01v8_aM04W1p65L0p18.netlist.tsv*\r\n",
      "sky130_fd_pr__nfet_01v8_aM04W1p65L0p25.cdl*\r\n",
      "sky130_fd_pr__nfet_01v8_aM04W1p65L0p25.netlist.tsv*\r\n",
      "sky130_fd_pr__nfet_01v8_aM04W3p00L0p15.cdl*\r\n",
      "sky130_fd_pr__nfet_01v8_aM04W3p00L0p15.netlist.tsv*\r\n",
      "sky130_fd_pr__nfet_01v8_aM04W3p00L0p18.cdl*\r\n",
      "sky130_fd_pr__nfet_01v8_aM04W3p00L0p18.netlist.tsv*\r\n",
      "sky130_fd_pr__nfet_01v8_aM04W3p00L0p25.cdl*\r\n",
      "sky130_fd_pr__nfet_01v8_aM04W3p00L0p25.netlist.tsv*\r\n",
      "sky130_fd_pr__nfet_01v8_aM04W5p00L0p15.cdl*\r\n",
      "sky130_fd_pr__nfet_01v8_aM04W5p00L0p15.netlist.tsv*\r\n",
      "sky130_fd_pr__nfet_01v8_aM04W5p00L0p18.cdl*\r\n",
      "sky130_fd_pr__nfet_01v8_aM04W5p00L0p18.netlist.tsv*\r\n",
      "sky130_fd_pr__nfet_01v8_aM04W5p00L0p25.cdl*\r\n",
      "sky130_fd_pr__nfet_01v8_aM04W5p00L0p25.netlist.tsv*\r\n",
      "sky130_fd_pr__nfet_01v8.bins.csv*\r\n",
      "sky130_fd_pr__nfet_01v8__ff.corner.spice*\r\n",
      "sky130_fd_pr__nfet_01v8__ff.pm3.spice*\r\n",
      "sky130_fd_pr__nfet_01v8__fs.corner.spice*\r\n",
      "sky130_fd_pr__nfet_01v8__fs.pm3.spice*\r\n",
      "sky130_fd_pr__nfet_01v8_hcM04W3p00L0p15.cdl*\r\n",
      "sky130_fd_pr__nfet_01v8_hcM04W3p00L0p15.netlist.tsv*\r\n",
      "sky130_fd_pr__nfet_01v8_hcM04W5p00L0p15.cdl*\r\n",
      "sky130_fd_pr__nfet_01v8_hcM04W5p00L0p15.netlist.tsv*\r\n",
      "sky130_fd_pr__nfet_01v8__leak.corner.spice*\r\n",
      "sky130_fd_pr__nfet_01v8__leak.pm3.spice*\r\n",
      "sky130_fd_pr__nfet_01v8_mcM04W3p00L0p15.cdl*\r\n",
      "sky130_fd_pr__nfet_01v8_mcM04W3p00L0p15.netlist.tsv*\r\n",
      "sky130_fd_pr__nfet_01v8_mcM04W5p00L0p15.cdl*\r\n",
      "sky130_fd_pr__nfet_01v8_mcM04W5p00L0p15.netlist.tsv*\r\n",
      "sky130_fd_pr__nfet_01v8__mismatch.corner.spice*\r\n",
      "sky130_fd_pr__nfet_01v8.pm3.spice*\r\n",
      "sky130_fd_pr__nfet_01v8__sf.corner.spice*\r\n",
      "sky130_fd_pr__nfet_01v8__sf.pm3.spice*\r\n",
      "sky130_fd_pr__nfet_01v8__ss.corner.spice*\r\n",
      "sky130_fd_pr__nfet_01v8__ss.pm3.spice*\r\n",
      "sky130_fd_pr__nfet_01v8__subvt_mismatch.corner.spice*\r\n",
      "sky130_fd_pr__nfet_01v8__tt.corner.spice*\r\n",
      "sky130_fd_pr__nfet_01v8__tt_correln.corner.spice*\r\n",
      "sky130_fd_pr__nfet_01v8__tt_correlp.corner.spice*\r\n",
      "sky130_fd_pr__nfet_01v8__tt_leak.corner.spice*\r\n",
      "sky130_fd_pr__nfet_01v8__tt_leak.pm3.spice*\r\n",
      "sky130_fd_pr__nfet_01v8__tt.pm3.spice*\r\n",
      "sky130_fd_pr__nfet_01v8__wafer.corner.spice*\r\n",
      "tests/\r\n"
     ]
    }
   ],
   "source": [
    "!ls -F ~/tmp/skywater-pdk/libraries/sky130_fd_pr/latest/cells/nfet_01v8"
   ]
  },
  {
   "cell_type": "markdown",
   "metadata": {},
   "source": [
    "After some further poking about and reading, I categorized the files as follows:\n",
    "\n",
    "* Any file ending in `.cdl` seems to be associated with Cadence. Since I'll never have the money to run their software, I can ignore these and the associated `.tsv` files.\n",
    "* Files with names containing `_tt_`, `_ff_`, `_fs_`, `_sf_`, or `_ss_` refer to *[process corners](http://anysilicon.com/understanding-process-corner-corner-lots/)* where variations in the semiconductor fabrication process lead to NMOS/PMOS transistors that have typical, fast or slow switching characteristics.\n",
    "* Files ending with `.pm3.spice` contain most of the device parameters for a particular corner. These files are included inside an associated `corner.spice` file that makes a small adjustment to the parameters. Both these files are used for simulating transistors at a given process corner.\n",
    "* Files ending with `leak.pm3.spice` and `leak.corner.spice` are similar to the previous files, but are probably used for simulating transistor leakage currents.\n",
    "* Many of the `.spice` files contain multiple transistor models with differing parameters that are dependent on the length and width of the transistor gate. The file ending with `.bins.csv` contains a list of the supported transistor sizes. Some of the 1.8V NMOS and PMOS transistor dimensions are shown below:"
   ]
  },
  {
   "cell_type": "code",
   "execution_count": 5,
   "metadata": {
    "ExecuteTime": {
     "end_time": "2021-04-30T19:52:04.350043Z",
     "start_time": "2021-04-30T19:52:04.290751Z"
    },
    "scrolled": true
   },
   "outputs": [
    {
     "data": {
      "text/html": [
       "<div>\n",
       "<style scoped>\n",
       "    .dataframe tbody tr th:only-of-type {\n",
       "        vertical-align: middle;\n",
       "    }\n",
       "\n",
       "    .dataframe tbody tr th {\n",
       "        vertical-align: top;\n",
       "    }\n",
       "\n",
       "    .dataframe thead th {\n",
       "        text-align: right;\n",
       "    }\n",
       "</style>\n",
       "<table border=\"1\" class=\"dataframe\">\n",
       "  <thead>\n",
       "    <tr style=\"text-align: right;\">\n",
       "      <th></th>\n",
       "      <th>device</th>\n",
       "      <th>bin</th>\n",
       "      <th>W</th>\n",
       "      <th>L</th>\n",
       "      <th>device</th>\n",
       "      <th>bin</th>\n",
       "      <th>W</th>\n",
       "      <th>L</th>\n",
       "    </tr>\n",
       "  </thead>\n",
       "  <tbody>\n",
       "    <tr>\n",
       "      <th>0</th>\n",
       "      <td>sky130_fd_pr__nfet_01v8</td>\n",
       "      <td>0</td>\n",
       "      <td>1.26</td>\n",
       "      <td>0.15</td>\n",
       "      <td>sky130_fd_pr__pfet_01v8</td>\n",
       "      <td>0.0</td>\n",
       "      <td>1.26</td>\n",
       "      <td>0.15</td>\n",
       "    </tr>\n",
       "    <tr>\n",
       "      <th>1</th>\n",
       "      <td>sky130_fd_pr__nfet_01v8</td>\n",
       "      <td>1</td>\n",
       "      <td>1.68</td>\n",
       "      <td>0.15</td>\n",
       "      <td>sky130_fd_pr__pfet_01v8</td>\n",
       "      <td>1.0</td>\n",
       "      <td>1.68</td>\n",
       "      <td>0.15</td>\n",
       "    </tr>\n",
       "    <tr>\n",
       "      <th>2</th>\n",
       "      <td>sky130_fd_pr__nfet_01v8</td>\n",
       "      <td>2</td>\n",
       "      <td>1.00</td>\n",
       "      <td>1.00</td>\n",
       "      <td>sky130_fd_pr__pfet_01v8</td>\n",
       "      <td>2.0</td>\n",
       "      <td>1.00</td>\n",
       "      <td>1.00</td>\n",
       "    </tr>\n",
       "    <tr>\n",
       "      <th>3</th>\n",
       "      <td>sky130_fd_pr__nfet_01v8</td>\n",
       "      <td>3</td>\n",
       "      <td>1.00</td>\n",
       "      <td>2.00</td>\n",
       "      <td>sky130_fd_pr__pfet_01v8</td>\n",
       "      <td>3.0</td>\n",
       "      <td>1.00</td>\n",
       "      <td>2.00</td>\n",
       "    </tr>\n",
       "    <tr>\n",
       "      <th>4</th>\n",
       "      <td>sky130_fd_pr__nfet_01v8</td>\n",
       "      <td>4</td>\n",
       "      <td>1.00</td>\n",
       "      <td>4.00</td>\n",
       "      <td>sky130_fd_pr__pfet_01v8</td>\n",
       "      <td>4.0</td>\n",
       "      <td>1.00</td>\n",
       "      <td>4.00</td>\n",
       "    </tr>\n",
       "    <tr>\n",
       "      <th>...</th>\n",
       "      <td>...</td>\n",
       "      <td>...</td>\n",
       "      <td>...</td>\n",
       "      <td>...</td>\n",
       "      <td>...</td>\n",
       "      <td>...</td>\n",
       "      <td>...</td>\n",
       "      <td>...</td>\n",
       "    </tr>\n",
       "    <tr>\n",
       "      <th>58</th>\n",
       "      <td>sky130_fd_pr__nfet_01v8</td>\n",
       "      <td>58</td>\n",
       "      <td>0.61</td>\n",
       "      <td>0.15</td>\n",
       "      <td>NaN</td>\n",
       "      <td>NaN</td>\n",
       "      <td>NaN</td>\n",
       "      <td>NaN</td>\n",
       "    </tr>\n",
       "    <tr>\n",
       "      <th>59</th>\n",
       "      <td>sky130_fd_pr__nfet_01v8</td>\n",
       "      <td>59</td>\n",
       "      <td>0.65</td>\n",
       "      <td>0.15</td>\n",
       "      <td>NaN</td>\n",
       "      <td>NaN</td>\n",
       "      <td>NaN</td>\n",
       "      <td>NaN</td>\n",
       "    </tr>\n",
       "    <tr>\n",
       "      <th>60</th>\n",
       "      <td>sky130_fd_pr__nfet_01v8</td>\n",
       "      <td>60</td>\n",
       "      <td>0.65</td>\n",
       "      <td>0.18</td>\n",
       "      <td>NaN</td>\n",
       "      <td>NaN</td>\n",
       "      <td>NaN</td>\n",
       "      <td>NaN</td>\n",
       "    </tr>\n",
       "    <tr>\n",
       "      <th>61</th>\n",
       "      <td>sky130_fd_pr__nfet_01v8</td>\n",
       "      <td>61</td>\n",
       "      <td>0.65</td>\n",
       "      <td>0.25</td>\n",
       "      <td>NaN</td>\n",
       "      <td>NaN</td>\n",
       "      <td>NaN</td>\n",
       "      <td>NaN</td>\n",
       "    </tr>\n",
       "    <tr>\n",
       "      <th>62</th>\n",
       "      <td>sky130_fd_pr__nfet_01v8</td>\n",
       "      <td>62</td>\n",
       "      <td>0.65</td>\n",
       "      <td>0.50</td>\n",
       "      <td>NaN</td>\n",
       "      <td>NaN</td>\n",
       "      <td>NaN</td>\n",
       "      <td>NaN</td>\n",
       "    </tr>\n",
       "  </tbody>\n",
       "</table>\n",
       "<p>63 rows × 8 columns</p>\n",
       "</div>"
      ],
      "text/plain": [
       "                     device  bin     W     L                   device  bin  \\\n",
       "0   sky130_fd_pr__nfet_01v8    0  1.26  0.15  sky130_fd_pr__pfet_01v8  0.0   \n",
       "1   sky130_fd_pr__nfet_01v8    1  1.68  0.15  sky130_fd_pr__pfet_01v8  1.0   \n",
       "2   sky130_fd_pr__nfet_01v8    2  1.00  1.00  sky130_fd_pr__pfet_01v8  2.0   \n",
       "3   sky130_fd_pr__nfet_01v8    3  1.00  2.00  sky130_fd_pr__pfet_01v8  3.0   \n",
       "4   sky130_fd_pr__nfet_01v8    4  1.00  4.00  sky130_fd_pr__pfet_01v8  4.0   \n",
       "..                      ...  ...   ...   ...                      ...  ...   \n",
       "58  sky130_fd_pr__nfet_01v8   58  0.61  0.15                      NaN  NaN   \n",
       "59  sky130_fd_pr__nfet_01v8   59  0.65  0.15                      NaN  NaN   \n",
       "60  sky130_fd_pr__nfet_01v8   60  0.65  0.18                      NaN  NaN   \n",
       "61  sky130_fd_pr__nfet_01v8   61  0.65  0.25                      NaN  NaN   \n",
       "62  sky130_fd_pr__nfet_01v8   62  0.65  0.50                      NaN  NaN   \n",
       "\n",
       "       W     L  \n",
       "0   1.26  0.15  \n",
       "1   1.68  0.15  \n",
       "2   1.00  1.00  \n",
       "3   1.00  2.00  \n",
       "4   1.00  4.00  \n",
       "..   ...   ...  \n",
       "58   NaN   NaN  \n",
       "59   NaN   NaN  \n",
       "60   NaN   NaN  \n",
       "61   NaN   NaN  \n",
       "62   NaN   NaN  \n",
       "\n",
       "[63 rows x 8 columns]"
      ]
     },
     "execution_count": 5,
     "metadata": {},
     "output_type": "execute_result"
    }
   ],
   "source": [
    "import pandas as pd\n",
    "nfet_sizes = pd.read_table(\"~/tmp/skywater-pdk/libraries/sky130_fd_pr/latest/cells/nfet_01v8/sky130_fd_pr__nfet_01v8.bins.csv\", delimiter=\",\")\n",
    "pfet_sizes = pd.read_table(\"~/tmp/skywater-pdk/libraries/sky130_fd_pr/latest/cells/pfet_01v8/sky130_fd_pr__pfet_01v8.bins.csv\", delimiter=\",\")\n",
    "pd.concat((nfet_sizes, pfet_sizes), axis=1)"
   ]
  },
  {
   "cell_type": "markdown",
   "metadata": {},
   "source": [
    "Knowing where the device files are and what they contain is great, but how do I actually *use* them? It turns out there is a master library file: `skywater-pdk/libraries/sky130_fd_pr/latest/models/sky130.lib.spice`. Internally, this file is divided into nine *sections* that cover the five process corners (`tt`, `ff`, `fs`, `sf`, `ss`) as well as four additional corners for the low/high variations in resistor and capacitor values (`hh`, `hl`, `lh`, `ll`). I'm only interested in using some typical FETs, so I can load that section into a SKiDL library like so:"
   ]
  },
  {
   "cell_type": "code",
   "execution_count": 6,
   "metadata": {
    "ExecuteTime": {
     "end_time": "2021-04-30T19:52:06.228285Z",
     "start_time": "2021-04-30T19:52:04.352429Z"
    }
   },
   "outputs": [
    {
     "name": "stderr",
     "output_type": "stream",
     "text": [
      "Bad element line, looking for word 1/2:\n",
      "include \"sky130_fd_pr__esd_nfet_05v0_nvt.pm3\"\n",
      "        ^\n",
      "Parse error on:\n",
      "include \"sky130_fd_pr__esd_nfet_05v0_nvt.pm3\"\n",
      "Problem parsing /home/devb/tmp/skywater-pdk/libraries/sky130_fd_pr/latest/models/r+c/../r+c.mrp1monte.spice - list assignment index out of range\n",
      "Empty Spice file: /home/devb/tmp/skywater-pdk/libraries/sky130_fd_pr/latest/models/head.spice\n"
     ]
    },
    {
     "name": "stdout",
     "output_type": "stream",
     "text": [
      "sky130_fd_pr__cap_vpp_02p7x41p1_m1m2m3m4_shieldl1_fingercap: \n",
      "sky130_fd_pr__rf_nfet_g5v0d10v5_bm10w3p00l0p50: \n",
      "sky130_fd_pr__rf_nfet_g5v0d10v5_bm04w3p00l0p50: \n",
      "sky130_fd_pr__rf_nfet_g5v0d10v5_bm10w5p00l0p50: \n",
      "sky130_fd_pr__rf_nfet_g5v0d10v5_bm04w5p00l0p50: \n",
      "sky130_fd_pr__rf_nfet_g5v0d10v5_bm10w7p00l0p50: \n",
      "sky130_fd_pr__rf_nfet_g5v0d10v5_bm04w7p00l0p50: \n",
      "sky130_fd_pr__rf_nfet_g5v0d10v5_bm02w5p00l0p50: \n",
      "sky130_fd_pr__rf_nfet_g5v0d10v5_bm02w3p00l0p50: \n",
      "sky130_fd_pr__cap_vpp_04p4x04p6_m1m2_noshield_o1nhv: \n",
      "sky130_fd_pr__res_xhigh_po_5p73: \n",
      "sky130_fd_pr__res_xhigh_po_0p69: \n",
      "sky130_fd_pr__nfet_g5v0d16v0__base: \n",
      "sky130_fd_pr__rf_nfet_01v8_lvt_bm02: \n",
      "sky130_fd_pr__rf_nfet_01v8_lvt_bm02w3p00: \n",
      "sky130_fd_pr__rf_nfet_01v8_lvt_bm02w5p00: \n",
      "sky130_fd_pr__rf_nfet_01v8_lvt_bm02w5p00l0p18: \n",
      "sky130_fd_pr__rf_nfet_01v8_lvt_bm02w5p00l0p25: \n",
      "sky130_fd_pr__rf_nfet_01v8_lvt_bm04: \n",
      "sky130_fd_pr__rf_nfet_01v8_lvt_bm04w3p00: \n",
      "sky130_fd_pr__rf_nfet_01v8_lvt_bm04w5p00: \n",
      "sky130_fd_pr__rf_nfet_01v8_lvt_bm04w5p00l0p18: \n",
      "sky130_fd_pr__rf_nfet_01v8_lvt_bm04w5p00l0p25: \n",
      "sky130_fd_pr__nfet_g5v0d10v5: \n",
      "sky130_fd_pr__res_high_po_2p85: \n",
      "sky130_fd_pr__cap_vpp_11p5x11p7_m1m2m3m4_shieldl1m5: \n",
      "sky130_fd_pr__cap_vpp_11p5x11p7_l1m1m2m3m4_shieldpom5_x: \n",
      "sky130_fd_pr__special_pfet_pass: \n",
      "sky130_fd_pr__cap_vpp_04p4x04p6_m1m2m3_shieldl1: \n",
      "sky130_fd_pr__pfet_g5v0d16v0__base: \n",
      "sky130_fd_pr__res_xhigh_po_2p85: \n",
      "sky130_fd_pr__esd_pfet_g5v0d10v5: \n",
      "sky130_fd_pr__res_xhigh_po_0p35: \n",
      "sky130_fd_pr__cap_vpp_11p5x11p7_l1m1m2m3m4_shieldm5: \n",
      "sky130_fd_pr__esd_nfet_g5v0d10v5: \n",
      "sky130_fd_pr__cap_vpp_06p8x06p1_l1m1m2m3_shieldpom4: \n",
      "sky130_fd_pr__res_high_po_5p73: \n",
      "sky130_fd_pr__pfet_01v8_mvt: \n",
      "sky130_fd_pr__pnp_05v5_w0p68l0p68: \n",
      "sky130_fd_pr__model__parasitic__res_po: \n",
      "sky130_fd_pr__cap_vpp_11p5x11p7_l1m1m2m3_shieldm4: \n",
      "sky130_fd_pr__esd_nfet_01v8: \n",
      "sky130_fd_pr__cap_vpp_11p5x11p7_m1m4_noshield: \n",
      "sky130_fd_pr__cap_mim_m3_1: \n",
      "sky130_fd_pr__cap_vpp_02p9x06p1_m1m2m3m4_shieldl1_fingercap2: \n",
      "sky130_fd_pr__special_nfet_pass: \n",
      "sky130_fd_pr__cap_vpp_44p7x23p1_pol1m1m2m3m4m5_noshield: \n",
      "sky130_fd_pr__cap_vpp_11p3x11p3_m1m2m3m4_shieldl1_wafflecap: \n",
      "sky130_fd_pr__res_generic_pd: \n",
      "sky130_fd_pr__pfet_g5v0d16v0: \n",
      "sky130_fd_pr__rf_pfet_01v8_bm02: \n",
      "sky130_fd_pr__rf_pfet_01v8_bm02w3p00: \n",
      "sky130_fd_pr__rf_pfet_01v8_bm02w5p00: \n",
      "sky130_fd_pr__rf_pfet_01v8_bm04: \n",
      "sky130_fd_pr__rf_pfet_01v8_bm04w3p00: \n",
      "sky130_fd_pr__rf_pfet_01v8_bm04w5p00: \n",
      "sky130_fd_pr__cap_vpp_06p8x06p1_m1m2m3_shieldl1m4: \n",
      "sky130_fd_pr__res_xhigh_po: \n",
      "sky130_fd_pr__res_high_po: \n",
      "sky130_fd_pr__pfet_01v8_hvt: \n",
      "sky130_fd_pr__cap_vpp_04p4x04p6_m1m2m3_shieldl1m5_floatm4: \n",
      "sky130_fd_pr__cap_vpp_11p3x11p8_l1m1m2m3m4_shieldm5_nhv: \n",
      "sky130_fd_pr__pfet_g5v0d10v5: \n",
      "sky130_fd_pr__res_iso_pw: \n",
      "sky130_fd_pr__special_nfet_latch: \n",
      "sky130_fd_pr__nfet_03v3_nvt: \n",
      "sky130_fd_pr__res_high_po_0p69: \n",
      "sky130_fd_pr__cap_vpp_05p9x05p9_m1m2m3m4_shieldl1_wafflecap: \n",
      "sky130_fd_pr__rf_nfet_01v8_bm02: \n",
      "sky130_fd_pr__rf_nfet_01v8_bm02w3p00: \n",
      "sky130_fd_pr__rf_nfet_01v8_bm02w5p00: \n",
      "sky130_fd_pr__rf_nfet_01v8_bm04: \n",
      "sky130_fd_pr__rf_nfet_01v8_bm04w3p00: \n",
      "sky130_fd_pr__rf_nfet_01v8_bm04w5p00: \n",
      "sky130_fd_pr__nfet_01v8_lvt: \n",
      "sky130_fd_pr__res_xhigh_po_1p41: \n",
      "sky130_fd_pr__special_nfet_pass_flash: \n",
      "sky130_fd_pr__rf_nfet_g5v0d10v5_bm02: \n",
      "sky130_fd_pr__rf_nfet_g5v0d10v5_bm02w5p00: \n",
      "sky130_fd_pr__rf_nfet_g5v0d10v5_bm04: \n",
      "sky130_fd_pr__rf_nfet_g5v0d10v5_bm04w5p00: \n",
      "sky130_fd_pr__rf_nfet_g5v0d10v5_bm04w7p00: \n",
      "sky130_fd_pr__rf_nfet_g5v0d10v5_bm10: \n",
      "sky130_fd_pr__rf_nfet_g5v0d10v5_bm10w5p00: \n",
      "sky130_fd_pr__rf_nfet_g5v0d10v5_bm10w7p00: \n",
      "sky130_fd_pr__rf_pfet_01v8_mvt_af02w1p68l0p15: \n",
      "sky130_fd_pr__rf_pfet_01v8_mvt_af02w0p84l0p15: \n",
      "sky130_fd_pr__rf_pfet_01v8_mvt_af04w1p68l0p15: \n",
      "sky130_fd_pr__res_high_po_0p35: \n",
      "sky130_fd_pr__cap_vpp_04p4x04p6_m1m2_noshield_o1phv: \n",
      "sky130_fd_pr__cap_vpp_11p5x11p7_l1m1m2m3_shieldpom4: \n",
      "sky130_fd_pr__cap_vpp_08p6x07p8_m1m2m3_shieldl1: \n",
      "sky130_fd_pr__res_xhigh_po__base: \n",
      "sky130_fd_pr__cap_vpp_02p7x11p1_m1m2m3m4_shieldl1_fingercap: \n",
      "sky130_fd_pr__rf_nfet_01v8_bm02w1p65l0p15: \n",
      "sky130_fd_pr__rf_nfet_01v8_bm04w1p65l0p15: \n",
      "sky130_fd_pr__rf_nfet_01v8_bm02w1p65l0p18: \n",
      "sky130_fd_pr__rf_nfet_01v8_bm04w1p65l0p18: \n",
      "sky130_fd_pr__rf_nfet_01v8_bm02w1p65l0p25: \n",
      "sky130_fd_pr__rf_nfet_01v8_bm04w1p65l0p25: \n",
      "sky130_fd_pr__rf_nfet_01v8_bm02w3p00l0p15: \n",
      "sky130_fd_pr__rf_nfet_01v8_bm04w3p00l0p15: \n",
      "sky130_fd_pr__rf_nfet_01v8_bm02w3p00l0p18: \n",
      "sky130_fd_pr__rf_nfet_01v8_bm04w3p00l0p18: \n",
      "sky130_fd_pr__rf_nfet_01v8_bm02w3p00l0p25: \n",
      "sky130_fd_pr__rf_nfet_01v8_bm04w3p00l0p25: \n",
      "sky130_fd_pr__rf_nfet_01v8_bm02w5p00l0p15: \n",
      "sky130_fd_pr__rf_nfet_01v8_bm04w5p00l0p15: \n",
      "sky130_fd_pr__rf_nfet_01v8_bm02w5p00l0p18: \n",
      "sky130_fd_pr__rf_nfet_01v8_bm04w5p00l0p18: \n",
      "sky130_fd_pr__rf_nfet_01v8_bm02w5p00l0p25: \n",
      "sky130_fd_pr__rf_nfet_01v8_bm04w5p00l0p25: \n",
      "sky130_fd_pr__cap_mim_m3_2: \n",
      "sky130_fd_pr__nfet_05v0_nvt: \n",
      "sky130_fd_pr__cap_vpp_11p5x11p7_m1m2m3_shieldl1m5_floatm4: \n",
      "sky130_fd_pr__special_nfet_pass_lvt: \n",
      "sky130_fd_pr__cap_vpp_11p5x11p7_l1m1m2m3m4_shieldpom5: \n",
      "sky130_fd_pr__cap_vpp_11p3x11p8_l1m1m2m3m4_shieldm5_nhv__base: \n",
      "sky130_fd_pr__cap_vpp_02p7x21p1_m1m2m3m4_shieldl1_fingercap: \n",
      "sky130_fd_pr__pfet_01v8_lvt: \n",
      "sky130_fd_pr__pfet_01v8: \n",
      "sky130_fd_pr__res_high_po_1p41: \n",
      "sky130_fd_pr__cap_var_lvt: \n",
      "sky130_fd_pr__res_generic_nd: \n",
      "sky130_fd_pr__rf_pfet_01v8_bm02w1p65l0p15: \n",
      "sky130_fd_pr__rf_pfet_01v8_bm04w1p65l0p15: \n",
      "sky130_fd_pr__rf_pfet_01v8_bm02w1p65l0p18: \n",
      "sky130_fd_pr__rf_pfet_01v8_bm04w1p65l0p18: \n",
      "sky130_fd_pr__rf_pfet_01v8_bm02w1p65l0p25: \n",
      "sky130_fd_pr__rf_pfet_01v8_bm04w1p65l0p25: \n",
      "sky130_fd_pr__rf_pfet_01v8_bm02w3p00l0p15: \n",
      "sky130_fd_pr__rf_pfet_01v8_bm04w3p00l0p15: \n",
      "sky130_fd_pr__rf_pfet_01v8_bm02w3p00l0p18: \n",
      "sky130_fd_pr__rf_pfet_01v8_bm04w3p00l0p18: \n",
      "sky130_fd_pr__rf_pfet_01v8_bm02w3p00l0p25: \n",
      "sky130_fd_pr__rf_pfet_01v8_bm04w3p00l0p25: \n",
      "sky130_fd_pr__rf_pfet_01v8_bm02w5p00l0p15: \n",
      "sky130_fd_pr__rf_pfet_01v8_bm04w5p00l0p15: \n",
      "sky130_fd_pr__rf_pfet_01v8_bm02w5p00l0p18: \n",
      "sky130_fd_pr__rf_pfet_01v8_bm04w5p00l0p18: \n",
      "sky130_fd_pr__rf_pfet_01v8_bm02w5p00l0p25: \n",
      "sky130_fd_pr__rf_pfet_01v8_bm04w5p00l0p25: \n",
      "sky130_fd_pr__rf_pfet_01v8_af02w1p68l0p15: \n",
      "sky130_fd_pr__rf_pfet_01v8_af02w5p00l0p15: \n",
      "sky130_fd_pr__rf_pfet_01v8_af02w0p84l0p15: \n",
      "sky130_fd_pr__rf_pfet_01v8_af04w1p68l0p15: \n",
      "sky130_fd_pr__rf_pfet_01v8_af02w3p00l0p15: \n",
      "sky130_fd_pr__cap_vpp_11p5x11p7_m1m2m3m4_shieldm5: \n",
      "sky130_fd_pr__cap_vpp_02p7x06p1_m1m2m3m4_shieldl1_fingercap: \n",
      "sky130_fd_pr__cap_vpp_08p6x07p8_m1m2m3_shieldl1m5_floatm4: \n",
      "sky130_fd_pr__cap_vpp_08p6x07p8_l1m1m2_noshield_o1: \n",
      "sky130_fd_pr__nfet_g5v0d16v0: \n",
      "sky130_fd_pr__nfet_01v8: \n",
      "sky130_fd_pr__rf_nfet_01v8_lvt_af02w0p84l0p15: \n",
      "sky130_fd_pr__rf_nfet_01v8_lvt_af04w0p84l0p15: \n",
      "sky130_fd_pr__rf_nfet_01v8_lvt_af04w3p00l0p15: \n",
      "sky130_fd_pr__rf_nfet_01v8_lvt_af02w0p42l0p15: \n",
      "sky130_fd_pr__rf_nfet_01v8_lvt_af02w3p00l0p15: \n",
      "sky130_fd_pr__rf_nfet_01v8_lvt_af08w3p00l0p15: \n",
      "sky130_fd_pr__rf_nfet_01v8_lvt_af08w0p84l0p15: \n",
      "sky130_fd_pr__cap_vpp_11p5x11p7_m1m2m3_shieldl1: \n"
     ]
    }
   ],
   "source": [
    "# Select a particular corner using tt, ff, fs, sf, ss, hh, hl, lh, ll.\n",
    "corner = \"tt\"  # Use typical transistor models.\n",
    "\n",
    "# Create a SKiDL library for the Skywater devices at that process corner.\n",
    "sky_lib = SchLib(\n",
    "    \"/home/devb/tmp/skywater-pdk/libraries/sky130_fd_pr/latest/models/sky130.lib.spice\",\n",
    "    lib_section=corner,  # Load the transistor models for this corner.\n",
    "    recurse=True,  # The master lib includes sublibraries, so recurse thru them to load everything.\n",
    ")\n",
    "\n",
    "print(sky_lib)  # Print the list of devices in the library."
   ]
  },
  {
   "cell_type": "markdown",
   "metadata": {},
   "source": [
    "The progress messages indicate a few errors in the libraries (maybe they're corrected by now), but I'm not using those particular devices so I'm not going to worry about it. From the list above, I can pick out the 1.8V general-purpose transistors I want, but I also need to specify their gate dimensions so the right model gets loaded. I picked out a small NMOS FET, and then a PMOS FET that's 3x the width. (That's because I learned in my 1983 VLSI class that PMOS transistors have 3x the resistance-per-square of NMOS ones, so make them wider to make the current-driving capability about the same in each.)"
   ]
  },
  {
   "cell_type": "code",
   "execution_count": 7,
   "metadata": {
    "ExecuteTime": {
     "end_time": "2021-04-30T19:52:06.253747Z",
     "start_time": "2021-04-30T19:52:06.230137Z"
    }
   },
   "outputs": [],
   "source": [
    "nfet_wl = Parameters(W=0.42, L=0.15)\n",
    "pfet_wl = Parameters(W=1.26, L=0.15)  # 3x the width of the NMOS FET."
   ]
  },
  {
   "cell_type": "markdown",
   "metadata": {},
   "source": [
    "Now I can extract the NMOS and PMOS transistors from the library and use them to build logic gates:"
   ]
  },
  {
   "cell_type": "code",
   "execution_count": 8,
   "metadata": {
    "ExecuteTime": {
     "end_time": "2021-04-30T19:52:06.299396Z",
     "start_time": "2021-04-30T19:52:06.255746Z"
    }
   },
   "outputs": [],
   "source": [
    "nfet = Part(sky_lib, \"sky130_fd_pr__nfet_01v8\", params=nfet_wl)\n",
    "pfet = Part(sky_lib, \"sky130_fd_pr__pfet_01v8\", params=pfet_wl)"
   ]
  },
  {
   "cell_type": "markdown",
   "metadata": {},
   "source": [
    "## Some Infrastructure"
   ]
  },
  {
   "cell_type": "markdown",
   "metadata": {},
   "source": [
    "Before I start building gates, there's some stuff that I'll use over and over to test the circuitry. The first of these is an *oscilloscope function* that takes a complete set of waveform data from a simulation and plots selected waveforms from it:"
   ]
  },
  {
   "cell_type": "code",
   "execution_count": 9,
   "metadata": {
    "ExecuteTime": {
     "end_time": "2021-04-30T19:52:06.325022Z",
     "start_time": "2021-04-30T19:52:06.300608Z"
    }
   },
   "outputs": [],
   "source": [
    "disp_vmin, disp_vmax = -0.4@u_V, 2.4@u_V\n",
    "disp_imin, disp_imax = -10@u_mA, 10@u_mA\n",
    "\n",
    "def oscope(waveforms, *nets_or_parts):\n",
    "    \"\"\"\n",
    "    Plot selected waveforms as a stack of individual traces.\n",
    "    \n",
    "    Args:\n",
    "        waveforms: Complete set of waveform data from ngspice simulation.\n",
    "        nets_or_parts: SKiDL Net or Part objects that correspond to individual waveforms.\n",
    "        vmin, vmax: Minimum/maximum voltage limits for each waveform trace.\n",
    "        imin, imax: Minimum/maximum current limits for each waveform trace.\n",
    "    \"\"\"\n",
    "    # Determine if this is a time-series plot, or something else.\n",
    "    try:\n",
    "        x = waveforms.time  # Sample times are used for the data x coord.\n",
    "    except AttributeError:\n",
    "        # Use the first Net or Part data to supply the x coord.\n",
    "        nets_or_parts = list(nets_or_parts)\n",
    "        x_node = nets_or_parts.pop(0)\n",
    "        x = waveforms[node(x_node)]\n",
    "\n",
    "    # Create separate plot traces for each selected waveform.\n",
    "    num_traces = len(nets_or_parts)\n",
    "    trace_hgt = 1.0 / num_traces\n",
    "    fig, axes = plt.subplots(nrows=num_traces, sharex=True, squeeze=False,\n",
    "                               subplot_kw=None, gridspec_kw=None)\n",
    "    traces = axes[:,0]\n",
    "\n",
    "    # Set the X axis label on the bottom-most trace.\n",
    "    if isinstance(x.unit, SiUnits.Second):\n",
    "        xlabel = 'Time (S)'\n",
    "    elif isinstance(x.unit, SiUnits.Volt):\n",
    "        xlabel = x_node.name + ' (V)'\n",
    "    elif isinstance(x.unit, SiUnits.Ampere):\n",
    "        xlabel = x_node.ref + ' (A)'\n",
    "    traces[-1].set_xlabel(xlabel)\n",
    "\n",
    "    # Set the Y axis label position for each plot trace.\n",
    "    trace_ylbl_position = dict(rotation=0,\n",
    "                              horizontalalignment='right',\n",
    "                              verticalalignment='center',\n",
    "                              x=-0.01)\n",
    "    \n",
    "    # Plot each Net/Part waveform in its own trace.\n",
    "    for i, (net_or_part, trace) in enumerate(zip(nets_or_parts, traces), 1):\n",
    "        \n",
    "        y = waveforms[node(net_or_part)]  # Extract the waveform data\n",
    "        \n",
    "        # Set the Y axis label depending upon whether data is voltage or current.\n",
    "        if isinstance(y.unit, SiUnits.Volt):\n",
    "            trace.set_ylim(float(disp_vmin), float(disp_vmax))\n",
    "            trace.set_ylabel(net_or_part.name + ' (V)', trace_ylbl_position)\n",
    "        elif isinstance(y.unit, SiUnits.Ampere):\n",
    "            trace.set_ylim(float(disp_imin), float(disp_imax))\n",
    "            trace.set_ylabel(net_or_part.ref + ' (A)', trace_ylbl_position)\n",
    "        \n",
    "        # Set position of trace within stacked traces.\n",
    "        trace.set_position([0.1, (num_traces-i) * trace_hgt, 0.8, trace_hgt])\n",
    "        \n",
    "        # Place grid on X axis.\n",
    "        trace.grid(axis='x', color='orange', alpha=1.0)\n",
    "        \n",
    "        # Plot the waveform data.\n",
    "        trace.plot(x, y)"
   ]
  },
  {
   "cell_type": "markdown",
   "metadata": {},
   "source": [
    "In addition to an oscilloscope, every electronics bench has a *signal generator*. For my purposes, I only need a simple function that generates one or more square waves whose frequencies decrease by a factor of two. (The collection of square waves looks like the output of a binary *counter*, hence the name.)"
   ]
  },
  {
   "cell_type": "code",
   "execution_count": 10,
   "metadata": {
    "ExecuteTime": {
     "end_time": "2021-04-30T19:52:06.346144Z",
     "start_time": "2021-04-30T19:52:06.326612Z"
    }
   },
   "outputs": [],
   "source": [
    "default_freq = 500@u_MHz  # Specify a default frequency so it doesn't need to be set every time.\n",
    "\n",
    "def cntgen(*bits, freq=default_freq):\n",
    "    \"\"\"\n",
    "    Generate one or more square waves varying in frequency by a factor of two.\n",
    "    \n",
    "    Args:\n",
    "        bits: One or more Net objects, each of which will carry a square wave.\n",
    "    \"\"\"\n",
    "    bit_period = 1.0/freq\n",
    "    for bit in bits:\n",
    "        \n",
    "        # Create a square-wave pulse generator with the current period.\n",
    "        pulse = PULSEV(initial_value=vdd_voltage, pulsed_value=0.0@u_V,\n",
    "                       pulse_width=bit_period/2, period=bit_period)\n",
    "        \n",
    "        # Attach the pulse generator between ground and the net that carries the square wave. \n",
    "        gnd & pulse[\"n, p\"] & bit\n",
    "        \n",
    "        # Double the period (halve the frequency) for each successive bit.\n",
    "        bit_period = 2 * bit_period"
   ]
  },
  {
   "cell_type": "markdown",
   "metadata": {},
   "source": [
    "All the circuits in this notebook will run from a 1.8V supply, so the following function instantiates a global power supply and a $V_{dd}$ voltage rail for them to use:"
   ]
  },
  {
   "cell_type": "code",
   "execution_count": 11,
   "metadata": {
    "ExecuteTime": {
     "end_time": "2021-04-30T19:52:06.366673Z",
     "start_time": "2021-04-30T19:52:06.347916Z"
    }
   },
   "outputs": [],
   "source": [
    "default_voltage = 1.8@u_V  # Specify a default supply voltage.\n",
    "\n",
    "def pwr(voltage=default_voltage):\n",
    "    \"\"\"\n",
    "    Create a global power supply and voltage rail.\n",
    "    \"\"\"\n",
    "    # Clear any pre-existing circuitry. (Start with a clear slate.)\n",
    "    reset()\n",
    "    \n",
    "    # Global variables for the power supply and voltage rail.\n",
    "    global vdd_ps, vdd, vdd_voltage\n",
    "    \n",
    "    # Create a power supply and attach it between the Vdd rail and ground.\n",
    "    vdd_voltage = voltage\n",
    "    vdd_ps = V(ref=\"VDD_SUPPLY\", dc_value=vdd_voltage)\n",
    "    vdd = Net(\"Vdd\")\n",
    "    vdd & vdd_ps[\"p, n\"] & gnd"
   ]
  },
  {
   "cell_type": "markdown",
   "metadata": {},
   "source": [
    "Finally, here are some convenience functions that 1) generate a netlist from the SKiDL code and use that to create a PySpice simulator object, 2) use the simulator object to perform a DC-level analysis, 3) use the simulator to perform a transient analysis, and 4) count the number of transistors in a circuit."
   ]
  },
  {
   "cell_type": "code",
   "execution_count": 12,
   "metadata": {
    "ExecuteTime": {
     "end_time": "2021-04-30T19:52:06.389863Z",
     "start_time": "2021-04-30T19:52:06.368002Z"
    }
   },
   "outputs": [],
   "source": [
    "get_sim  = lambda         : generate_netlist().simulator()  # Compile netlist & create simulator.\n",
    "do_dc    = lambda **kwargs: get_sim().dc(**kwargs)          # Run a DC-level analysis.\n",
    "do_trans = lambda **kwargs: get_sim().transient(**kwargs)   # Run a transient analysis.\n",
    "\n",
    "def how_big(circuit=default_circuit):\n",
    "    from collections import defaultdict\n",
    "    parts = defaultdict(lambda: 0)\n",
    "    for p in circuit.parts:\n",
    "        parts[p.name] += 1\n",
    "    for part_name, num_parts in parts.items():\n",
    "        print(f\"{part_name}: {num_parts}\")"
   ]
  },
  {
   "cell_type": "markdown",
   "metadata": {},
   "source": [
    "With the infrastructure in place, I can begin building logic gates, starting from the simplest one I know."
   ]
  },
  {
   "cell_type": "markdown",
   "metadata": {},
   "source": [
    "## The Simplest: the Inverter\n",
    "\n",
    "Here's the gate-level schematic for a CMOS inverter:"
   ]
  },
  {
   "cell_type": "markdown",
   "metadata": {},
   "source": [
    "![CMOS inverter transistor schematic](https://allthingsvlsi.files.wordpress.com/2013/04/cmos-inverter.png?w=286&h=300)"
   ]
  },
  {
   "cell_type": "markdown",
   "metadata": {},
   "source": [
    "And this is it's SKiDL version:"
   ]
  },
  {
   "cell_type": "code",
   "execution_count": 13,
   "metadata": {
    "ExecuteTime": {
     "end_time": "2021-04-30T19:52:06.416444Z",
     "start_time": "2021-04-30T19:52:06.394530Z"
    }
   },
   "outputs": [],
   "source": [
    "@package\n",
    "def inverter(a=Net(), out=Net()):\n",
    "    # Create the NFET and PFET transistors.\n",
    "    qp, qn = pfet(), nfet()\n",
    "\n",
    "    # Attach the NFET substrate to ground and the PFET substrate to Vdd.\n",
    "    gnd & qn.b\n",
    "    vdd & qp.b\n",
    "    \n",
    "    # Connect Vdd through the PFET source-to-drain on to the output node.\n",
    "    # From the output node, connect through the NFET drain-to-source to ground.\n",
    "    vdd & qp[\"s,d\"] & out & qn[\"d,s\"] & gnd\n",
    "    \n",
    "    # Attach the input to the NFET and PFET gate terminals.\n",
    "    a & qn.g & qp.g"
   ]
  },
  {
   "cell_type": "markdown",
   "metadata": {},
   "source": [
    "First, I'll test the inverter's transfer function by attaching a voltage ramp to its input and see when the output transitions. (For those playing at home, you may notice the SPICE simulations take a minute or two to run. These transistor models are *complicated*.)"
   ]
  },
  {
   "cell_type": "code",
   "execution_count": 14,
   "metadata": {
    "ExecuteTime": {
     "end_time": "2021-04-30T19:52:37.600560Z",
     "start_time": "2021-04-30T19:52:06.418376Z"
    }
   },
   "outputs": [
    {
     "name": "stderr",
     "output_type": "stream",
     "text": [
      "\n",
      "No errors or warnings found during netlist generation.\n",
      "\n",
      "Warning: include: has no value, DC 0 assumed\n"
     ]
    },
    {
     "data": {
      "image/png": "[encoded data removed]",
      "text/plain": [
       "<Figure size 432x288 with 1 Axes>"
      ]
     },
     "metadata": {
      "needs_background": "light"
     },
     "output_type": "display_data"
    }
   ],
   "source": [
    "pwr()  # Apply power to the circuitry.\n",
    "\n",
    "inv = inverter()  # Create an inverter.\n",
    "\n",
    "# Attach a voltage source between ground and the inverter's input.\n",
    "# Then attach the output to a net.\n",
    "gnd & V(ref=\"VIN\", dc_value=0.0@u_V)[\"n, p\"] & Net(\"VIN\") & inv[\"a, out\"] & Net(\"VOUT\")\n",
    "\n",
    "# Do a DC-level simulation while ramping the voltage source from 0 to Vdd.\n",
    "vio = do_dc(VIN=slice(0, vdd_voltage, 0.01))\n",
    "\n",
    "# Plot the inverter's output against its input.\n",
    "oscope(vio, inv.a, inv.out)"
   ]
  },
  {
   "cell_type": "markdown",
   "metadata": {},
   "source": [
    "For a low-level input, the inverter's output is high and vice-versa as expected. From the shape of the transfer curve, I'd estimate the inverter's trigger point is around 0.8V."
   ]
  },
  {
   "cell_type": "markdown",
   "metadata": {},
   "source": [
    "It's also interesting to look at the current draw of the inverter as the input voltage ramps up:"
   ]
  },
  {
   "cell_type": "code",
   "execution_count": 15,
   "metadata": {
    "ExecuteTime": {
     "end_time": "2021-04-30T19:52:37.914449Z",
     "start_time": "2021-04-30T19:52:37.601720Z"
    }
   },
   "outputs": [
    {
     "data": {
      "image/png": "[encoded data removed]",
      "text/plain": [
       "<Figure size 432x288 with 2 Axes>"
      ]
     },
     "metadata": {
      "needs_background": "light"
     },
     "output_type": "display_data"
    }
   ],
   "source": [
    "# Add a trace for the Vdd power supply current.\n",
    "disp_imin, disp_imax = -15@u_uA, 1@u_uA\n",
    "oscope(vio, inv.a, inv.out, vdd_ps)"
   ]
  },
  {
   "cell_type": "markdown",
   "metadata": {},
   "source": [
    "As we learned in our textbooks so long ago, the quiescent current for CMOS logic is near zero but surges as the input voltage goes through the transition zone when both transistors are ON. For this inverter, the current maxes-out at about 13 $\\mu$A at the trigger point."
   ]
  },
  {
   "cell_type": "markdown",
   "metadata": {},
   "source": [
    "It's equally easy to do a transient analysis of the inverter as it receives an input that varies over time:"
   ]
  },
  {
   "cell_type": "code",
   "execution_count": 16,
   "metadata": {
    "ExecuteTime": {
     "end_time": "2021-04-30T19:53:10.325456Z",
     "start_time": "2021-04-30T19:52:37.915855Z"
    }
   },
   "outputs": [
    {
     "name": "stderr",
     "output_type": "stream",
     "text": [
      "\n",
      "No errors or warnings found during netlist generation.\n",
      "\n",
      "Warning: include: has no value, DC 0 assumed\n"
     ]
    },
    {
     "data": {
      "image/png": "[encoded data removed]",
      "text/plain": [
       "<Figure size 432x288 with 2 Axes>"
      ]
     },
     "metadata": {
      "needs_background": "light"
     },
     "output_type": "display_data"
    }
   ],
   "source": [
    "pwr()\n",
    "\n",
    "# Connect a 500 MHz square wave to net A.\n",
    "a = Net(\"A\")\n",
    "cntgen(a)\n",
    "\n",
    "# Pump the square wave through an inverter.\n",
    "inv = inverter()\n",
    "a & inv[\"a, out\"] & Net(\"A_BAR\")\n",
    "\n",
    "# Do a transient analysis and look at the timing between input and output.\n",
    "waveforms = do_trans(step_time=0.01@u_ns, end_time=3.5@u_ns)\n",
    "oscope(waveforms, a, inv.out)"
   ]
  },
  {
   "cell_type": "markdown",
   "metadata": {},
   "source": [
    "There is a bit of ringing on the inverter's output but no appreciable propagation delay, probably because there is no real load on the output. In order to get more delay, I'll cascade thirty inverters together and look at the output of the last one:"
   ]
  },
  {
   "cell_type": "code",
   "execution_count": 17,
   "metadata": {
    "ExecuteTime": {
     "end_time": "2021-04-30T19:53:43.783669Z",
     "start_time": "2021-04-30T19:53:10.326803Z"
    }
   },
   "outputs": [
    {
     "name": "stderr",
     "output_type": "stream",
     "text": [
      "\n",
      "No errors or warnings found during netlist generation.\n",
      "\n",
      "Warning: include: has no value, DC 0 assumed\n"
     ]
    },
    {
     "data": {
      "image/png": "[encoded data removed]",
      "text/plain": [
       "<Figure size 432x288 with 2 Axes>"
      ]
     },
     "metadata": {
      "needs_background": "light"
     },
     "output_type": "display_data"
    }
   ],
   "source": [
    "pwr()\n",
    "\n",
    "a = Net(\"A\")\n",
    "cntgen(a)\n",
    "\n",
    "# Create a list of 30 inverters.\n",
    "invs = [inverter() for _ in range(30)]\n",
    "\n",
    "# Attach the square wave to the first inverter in the list.\n",
    "a & invs[0].a\n",
    "\n",
    "# Go through the list, attaching the input of each inverter to the output of the previous one.\n",
    "for i in range(1, len(invs)):\n",
    "    invs[i-1].out & invs[i].a\n",
    "    \n",
    "# Attach the output of the last inverter to the output net.\n",
    "invs[-1].out & Net(\"A_DELAY\")\n",
    "\n",
    "# Do a transient analysis.\n",
    "waveforms = do_trans(step_time=0.01@u_ns, end_time=3.5@u_ns)\n",
    "oscope(waveforms, a, invs[-1].out)"
   ]
  },
  {
   "cell_type": "markdown",
   "metadata": {},
   "source": [
    "Thirty cascaded inverters creates a total delay of around 0.65 ns, so each inverter contributes about 20 ps. This simulation doesn't include things like wiring delays, so don't get your hopes up about running at 50 GHz."
   ]
  },
  {
   "cell_type": "markdown",
   "metadata": {},
   "source": [
    "Finally, just to test the `how_big` function, let's see how many transistors are in 30 inverters:"
   ]
  },
  {
   "cell_type": "code",
   "execution_count": 18,
   "metadata": {
    "ExecuteTime": {
     "end_time": "2021-04-30T19:53:43.803628Z",
     "start_time": "2021-04-30T19:53:43.784906Z"
    }
   },
   "outputs": [
    {
     "name": "stdout",
     "output_type": "stream",
     "text": [
      "V: 1\n",
      "PULSEV: 1\n",
      "sky130_fd_pr__pfet_01v8: 30\n",
      "sky130_fd_pr__nfet_01v8: 30\n"
     ]
    }
   ],
   "source": [
    "how_big()"
   ]
  },
  {
   "cell_type": "markdown",
   "metadata": {},
   "source": [
    "Thirty NMOS and thirty PMOS transistors. We're good to go."
   ]
  },
  {
   "cell_type": "markdown",
   "metadata": {},
   "source": [
    "## The Universal: the NAND Gate"
   ]
  },
  {
   "cell_type": "markdown",
   "metadata": {},
   "source": [
    "They say if you have a NAND gate, you have it all (if all you want is combinational logic, which seems a bit limited). Here's the schematic for one:"
   ]
  },
  {
   "cell_type": "markdown",
   "metadata": {},
   "source": [
    "![CMOS NAND gate schematic](https://external-content.duckduckgo.com/iu/?u=https%3A%2F%2Fwww.allaboutcircuits.com%2Fuploads%2Farticles%2FCMOS-NAND-gate-schematic-diagram.jpg&f=1&nofb=1)"
   ]
  },
  {
   "cell_type": "markdown",
   "metadata": {},
   "source": [
    "And this is its SKiDL version:"
   ]
  },
  {
   "cell_type": "code",
   "execution_count": 19,
   "metadata": {
    "ExecuteTime": {
     "end_time": "2021-04-30T19:53:43.826447Z",
     "start_time": "2021-04-30T19:53:43.805363Z"
    }
   },
   "outputs": [],
   "source": [
    "@package\n",
    "def nand(a=Net(), b=Net(), out=Net()):\n",
    "    # Create the PFET and NFET transistors.\n",
    "    q1, q2 = pfet(2)\n",
    "    q3, q4 = nfet(2)\n",
    "    \n",
    "    # Connect the PFET/NFET substrates to Vdd/gnd, respectively.\n",
    "    vdd & q1.b & q2.b\n",
    "    gnd & q3.b & q4.b\n",
    "    \n",
    "    # Go from Vdd through a parallel-pair of PFETs to the output and then\n",
    "    # through a series-pair of NFETs to ground.\n",
    "    vdd & (q1[\"s,d\"] | q2[\"s,d\"]) & out & q3[\"d,s\"] & q4[\"d,s\"] & gnd\n",
    "    \n",
    "    # Connect the pair of inputs to the gates of the transistors.\n",
    "    a & q1.g & q3.g\n",
    "    b & q2.g & q4.g"
   ]
  },
  {
   "cell_type": "markdown",
   "metadata": {},
   "source": [
    "Like with the inverter, I'll do a transient analysis but using two square waves to drive both NAND inputs:"
   ]
  },
  {
   "cell_type": "code",
   "execution_count": 20,
   "metadata": {
    "ExecuteTime": {
     "end_time": "2021-04-30T19:54:16.001686Z",
     "start_time": "2021-04-30T19:53:43.827726Z"
    }
   },
   "outputs": [
    {
     "name": "stderr",
     "output_type": "stream",
     "text": [
      "\n",
      "No errors or warnings found during netlist generation.\n",
      "\n",
      "Warning: include: has no value, DC 0 assumed\n"
     ]
    },
    {
     "data": {
      "image/png": "[encoded data removed]",
      "text/plain": [
       "<Figure size 432x288 with 3 Axes>"
      ]
     },
     "metadata": {
      "needs_background": "light"
     },
     "output_type": "display_data"
    }
   ],
   "source": [
    "pwr()\n",
    "\n",
    "a, b, out = Net(\"A\"), Net(\"B\"), Net(\"OUT\")\n",
    "\n",
    "# Create two square waves: a at 500 MHz and b at 250 MHz.\n",
    "cntgen(a, b)\n",
    "\n",
    "# Create a NAND gate and connect its I/O to the nets.\n",
    "nand()[\"a, b, out\"] += a, b, out\n",
    "\n",
    "# Perform a transient analysis.\n",
    "waveforms = do_trans(step_time=0.01@u_ns, end_time=10@u_ns)\n",
    "oscope(waveforms, a, b, out)"
   ]
  },
  {
   "cell_type": "markdown",
   "metadata": {},
   "source": [
    "The NAND gate output only goes low when both inputs are high, as expected. Ho hum."
   ]
  },
  {
   "cell_type": "markdown",
   "metadata": {},
   "source": [
    "## One or the Other: the XOR Gate"
   ]
  },
  {
   "cell_type": "markdown",
   "metadata": {},
   "source": [
    "Continuing on, here is the last combinational gate I'll do: the exclusive-OR. There's nothing really new here that you haven't already seen with the NAND gate, just more of it."
   ]
  },
  {
   "cell_type": "markdown",
   "metadata": {},
   "source": [
    "![XOR gate](https://external-content.duckduckgo.com/iu/?u=https%3A%2F%2Fupload.wikimedia.org%2Fwikipedia%2Fcommons%2Fthumb%2Ff%2Ffa%2FCMOS_XOR_Gate.svg%2F1280px-CMOS_XOR_Gate.svg.png&f=1&nofb=1)"
   ]
  },
  {
   "cell_type": "code",
   "execution_count": 21,
   "metadata": {
    "ExecuteTime": {
     "end_time": "2021-04-30T19:54:16.028292Z",
     "start_time": "2021-04-30T19:54:16.005662Z"
    }
   },
   "outputs": [],
   "source": [
    "@package\n",
    "def xor(a=Net(), b=Net(), out=Net()):\n",
    "    # Create eight transistors: four NFETs and four PFETs.\n",
    "    qn_a, qn_ab, qn_b, qn_bb = nfet(4)\n",
    "    qp_a, qp_ab, qp_b, qp_bb = pfet(4)\n",
    "    \n",
    "    # Connect the substrates of the transistors.\n",
    "    vdd & qp_a.b & qp_ab.b & qp_b.b & qp_bb.b\n",
    "    gnd & qn_a.b & qn_ab.b & qn_b.b & qn_bb.b\n",
    "    \n",
    "    # Create the two parallel \"legs\" of series PFETs-NFETs with a\n",
    "    # common output node in the middle.\n",
    "    vdd & qp_ab[\"s,d\"] & qp_b[\"s,d\"] & out & qn_a[\"d,s\"] & qn_b[\"d,s\"] & gnd\n",
    "    vdd & qp_a[\"s,d\"] & qp_bb[\"s,d\"] & out & qn_ab[\"d,s\"] & qn_bb[\"d,s\"] & gnd\n",
    "    \n",
    "    # Create two inverters to get the complements of both inputs.\n",
    "    ab, bb = inverter(), inverter()\n",
    "    ab.a += a\n",
    "    bb.a += b\n",
    "\n",
    "    # Attach the two inputs and their complements to the transistor gates.\n",
    "    a      & qp_a.g  & qn_a.g\n",
    "    ab.out & qp_ab.g & qn_ab.g\n",
    "    b      & qp_b.g  & qn_b.g\n",
    "    bb.out & qp_bb.g & qn_bb.g\n"
   ]
  },
  {
   "cell_type": "code",
   "execution_count": 22,
   "metadata": {
    "ExecuteTime": {
     "end_time": "2021-04-30T19:54:48.159865Z",
     "start_time": "2021-04-30T19:54:16.030512Z"
    }
   },
   "outputs": [
    {
     "name": "stderr",
     "output_type": "stream",
     "text": [
      "\n",
      "No errors or warnings found during netlist generation.\n",
      "\n",
      "Warning: include: has no value, DC 0 assumed\n"
     ]
    },
    {
     "data": {
      "image/png": "[encoded data removed]",
      "text/plain": [
       "<Figure size 432x288 with 3 Axes>"
      ]
     },
     "metadata": {
      "needs_background": "light"
     },
     "output_type": "display_data"
    }
   ],
   "source": [
    "pwr()\n",
    "\n",
    "a, b, out = Net(\"A\"), Net(\"B\"), Net(\"OUT\")\n",
    "cntgen(a, b)\n",
    "\n",
    "xor()[\"a, b, out\"] += a, b, out\n",
    "\n",
    "waveforms = do_trans(step_time=0.01@u_ns, end_time=10@u_ns)\n",
    "oscope(waveforms, a, b, out)"
   ]
  },
  {
   "cell_type": "markdown",
   "metadata": {},
   "source": [
    "The output only goes high when the inputs have opposite values, so the XOR gate is working correctly."
   ]
  },
  {
   "cell_type": "markdown",
   "metadata": {},
   "source": [
    "## No, It's Not a Snake: The Adder"
   ]
  },
  {
   "cell_type": "markdown",
   "metadata": {},
   "source": [
    "Finally I've reached the level of abstraction where individual transistors aren't needed. I can use the gates I've already built to construct new stuff, like this [full-adder bit](https://www.geeksforgeeks.org/full-adder-in-digital-logic/):"
   ]
  },
  {
   "cell_type": "markdown",
   "metadata": {},
   "source": [
    "![Full adder bit](https://external-content.duckduckgo.com/iu/?u=https%3A%2F%2Ftse4.mm.bing.net%2Fth%3Fid%3DOIP.hv1H5z95bT2f_llqtxYglQHaEt%26pid%3DApi&f=1)"
   ]
  },
  {
   "cell_type": "code",
   "execution_count": 23,
   "metadata": {
    "ExecuteTime": {
     "end_time": "2021-04-30T19:54:48.180543Z",
     "start_time": "2021-04-30T19:54:48.161296Z"
    }
   },
   "outputs": [],
   "source": [
    "@package\n",
    "def full_adder(a=Net(), b=Net(), cin=Net(), s=Net(), cout=Net()):\n",
    "    # Use two XOR gates to compute the sum bit.\n",
    "    ab_sum = Net()  # Net to carry the intermediate result of a+b.\n",
    "    xor()[\"a,b,out\"] += a, b, ab_sum    # Compute ab_sum=a+b\n",
    "    xor()[\"a,b,out\"] += ab_sum, cin, s  # Compute s=a+b+cin\n",
    "    \n",
    "    # Through the magic of DeMorgan's Theorem, the AND-OR carry circuit\n",
    "    # can be done using three NAND gates.\n",
    "    nand1, nand2, nand3 = nand(), nand(), nand()\n",
    "    nand1[\"a,b\"] += ab_sum, cin\n",
    "    nand2[\"a,b\"] += a, b\n",
    "    nand3[\"a,b,out\"] += nand1.out, nand2.out, cout"
   ]
  },
  {
   "cell_type": "markdown",
   "metadata": {},
   "source": [
    "I'll use a `cntgen()` with three outputs to apply all eight input combinations to the full-adder:"
   ]
  },
  {
   "cell_type": "code",
   "execution_count": 24,
   "metadata": {
    "ExecuteTime": {
     "end_time": "2021-04-30T19:55:21.093469Z",
     "start_time": "2021-04-30T19:54:48.181998Z"
    }
   },
   "outputs": [
    {
     "name": "stderr",
     "output_type": "stream",
     "text": [
      "\n",
      "No errors or warnings found during netlist generation.\n",
      "\n",
      "Warning: include: has no value, DC 0 assumed\n"
     ]
    },
    {
     "data": {
      "image/png": "[encoded data removed]",
      "text/plain": [
       "<Figure size 432x288 with 5 Axes>"
      ]
     },
     "metadata": {
      "needs_background": "light"
     },
     "output_type": "display_data"
    }
   ],
   "source": [
    "pwr()\n",
    "\n",
    "# Generate nets for the inputs and outputs.\n",
    "a, b, cin, s, cout = Net(\"A\"), Net(\"B\"), Net(\"CIN\"), Net(\"S\"), Net(\"COUT\")\n",
    "\n",
    "# Drive the A, B and CIN full-adder inputs with all eight combinations.\n",
    "cntgen(a, b, cin)\n",
    "\n",
    "# Connect the I/O nets to the full-adder.\n",
    "full_adder()[\"a, b, cin, s, cout\"] += a, b, cin, s, cout\n",
    "\n",
    "# Do a transient analysis.\n",
    "waveforms = do_trans(step_time=0.01@u_ns, end_time=8@u_ns)\n",
    "oscope(waveforms, a, b, cin, s, cout)"
   ]
  },
  {
   "cell_type": "markdown",
   "metadata": {},
   "source": [
    "The sum and carry-out bits of the full-adder match the truth-table for all the combinations of A, B and the carry input."
   ]
  },
  {
   "cell_type": "markdown",
   "metadata": {},
   "source": [
    "Now I'll combine multiple full-adders to build a multi-bit adder:"
   ]
  },
  {
   "cell_type": "code",
   "execution_count": 25,
   "metadata": {
    "ExecuteTime": {
     "end_time": "2021-04-30T19:55:21.123092Z",
     "start_time": "2021-04-30T19:55:21.094985Z"
    }
   },
   "outputs": [],
   "source": [
    "@subcircuit\n",
    "def adder(a, b, cin, s, cout):\n",
    "    # a, b and s are multi-bit buses. The width of the adder will\n",
    "    # be determined by the length of the sum output.\n",
    "    width = len(s)\n",
    "    \n",
    "    # Create a list of full-adders equal to the width of the sum output.\n",
    "    fadds = [full_adder() for _ in range(width)]\n",
    "    \n",
    "    # Iteratively connect the full-adders to the input and output bits.\n",
    "    for i in range(width):\n",
    "        \n",
    "        # Connect the i'th full adder to the i'th bit of a, b and s.\n",
    "        fadds[i][\"a, b, s\"] += a[i], b[i], s[i]\n",
    "        \n",
    "        if i == 0:\n",
    "            # Connect the carry input to the first full-adder.\n",
    "            fadds[i].cin += cin\n",
    "        else:\n",
    "            # Connect the carry input of the rest of the full-adders\n",
    "            # to the carry output from the previous one.\n",
    "            fadds[i].cin += fadds[i-1].cout\n",
    "            \n",
    "    # Connect the carry output to the carry output from the last bit of the adder.\n",
    "    cout += fadds[-1].cout"
   ]
  },
  {
   "cell_type": "markdown",
   "metadata": {},
   "source": [
    "I'll instantiate a two-bit adder and test it with all 32 input combinations of A$_0$, A$_1$, B$_0$, B$_1$, and C$_{in}$:"
   ]
  },
  {
   "cell_type": "code",
   "execution_count": 26,
   "metadata": {
    "ExecuteTime": {
     "end_time": "2021-04-30T19:55:56.439440Z",
     "start_time": "2021-04-30T19:55:21.126142Z"
    }
   },
   "outputs": [
    {
     "name": "stderr",
     "output_type": "stream",
     "text": [
      "\n",
      "No errors or warnings found during netlist generation.\n",
      "\n",
      "Warning: include: has no value, DC 0 assumed\n"
     ]
    },
    {
     "data": {
      "image/png": "[encoded data removed]",
      "text/plain": [
       "<Figure size 432x288 with 8 Axes>"
      ]
     },
     "metadata": {
      "needs_background": "light"
     },
     "output_type": "display_data"
    }
   ],
   "source": [
    "pwr()\n",
    "\n",
    "# Create the two-bit input and output buses and the carry input & output nets.\n",
    "w = 2\n",
    "a, b, cin, s, cout = Bus(\"A\",w), Bus(\"B\",w), Net(\"CIN\"), Bus(\"S\",w), Net(\"COUT\")\n",
    "\n",
    "# Drive the A0, A1, B0, B1, and CIN inputs with a five-bit counter.\n",
    "cntgen(*a, *b, cin)\n",
    "\n",
    "# Connect the I/O to an adder.\n",
    "adder(a, b, cin, s, cout)\n",
    "\n",
    "# Do a transient analysis\n",
    "waveforms = do_trans(step_time=0.01@u_ns, end_time=32@u_ns)\n",
    "oscope(waveforms, *a, *b, cin, *s, cout)"
   ]
  },
  {
   "cell_type": "markdown",
   "metadata": {},
   "source": [
    "The outputs *look* like they might be correct, but I'm not going to waste my time trying to eyeball it when Python can do that. The following code subsamples the waveforms and converts them into a table of integers for the adder's inputs and outputs:"
   ]
  },
  {
   "cell_type": "code",
   "execution_count": 27,
   "metadata": {
    "ExecuteTime": {
     "end_time": "2021-04-30T19:55:56.473311Z",
     "start_time": "2021-04-30T19:55:56.440672Z"
    }
   },
   "outputs": [],
   "source": [
    "def integerize(waveforms, *nets, threshold=0.9@u_V):\n",
    "    \"\"\"\n",
    "    Convert a set of N waveforms to a stream of N-bit integer values.\n",
    "    \n",
    "    Args:\n",
    "        waveforms: Waveform data from ngspice.\n",
    "        nets: A set of nets comprising a digital word.\n",
    "        threshold: Voltage threshold for determining if a waveform value is 1 or 0.\n",
    "        \n",
    "    Returns:\n",
    "        A list of integer values, one for each sample time in the waveform data.\n",
    "    \"\"\"\n",
    "    \n",
    "    def binarize():\n",
    "        \"\"\"Convert multiple waveforms into streams of ones and zeros.\"\"\"\n",
    "        binary_vals = []\n",
    "        for net in nets:\n",
    "            binary_vals.append([v > threshold for v in waveforms[node(net)]])\n",
    "        return binary_vals\n",
    "\n",
    "    # Convert the waveforms into streams of bits, then combine the bits into integers.\n",
    "    int_vals = []\n",
    "    for bin_vector in zip(*reversed(binarize())):\n",
    "        int_vals.append(int(bytes([ord('0')+b for b in bin_vector]), base=2))\n",
    "    return int_vals\n",
    "\n",
    "def subsample(subsample_times, sample_times, *int_waveforms):\n",
    "    \"\"\"\n",
    "    Take a subset of samples from a set of integerized waveforms at a set of specific times.\n",
    "    \n",
    "    Args:\n",
    "        subsample_times: A list of times (in ascending order) at which to take subsamples.\n",
    "        sample_times: A list of times (in ascending order) for when each integerized sample was taken.\n",
    "        int_waveforms: List of integerized waveform sample lists.\n",
    "        \n",
    "    Returns:\n",
    "        A list of subsample lists.\n",
    "    \"\"\"\n",
    "    \n",
    "    # Create a list of the empty lists to hold the subsamples from each integerized waveform.\n",
    "    subsamples = [[] for _ in int_waveforms]\n",
    "    \n",
    "    # Get the first subsample time.\n",
    "    subsample_time = subsample_times.pop(0)\n",
    "    \n",
    "    # Step through the sample times, looking for the time to take a subsample.\n",
    "    for sample_time, *samples in zip(sample_times, *int_waveforms):\n",
    "        \n",
    "        # Take a subsample whenever the sample time is less than the current subsample time.\n",
    "        if sample_time > subsample_time:\n",
    "        \n",
    "            # Store a subsample from each waveform.\n",
    "            for i, v in enumerate(samples):\n",
    "                subsamples[i].append(v)\n",
    "                \n",
    "            # Get the next subsample time and break from loop if there isn't one.\n",
    "            try:\n",
    "                subsample_time = subsample_times.pop(0)\n",
    "            except IndexError:\n",
    "                break\n",
    "\n",
    "    return subsamples"
   ]
  },
  {
   "cell_type": "code",
   "execution_count": 28,
   "metadata": {
    "ExecuteTime": {
     "end_time": "2021-04-30T19:55:56.688417Z",
     "start_time": "2021-04-30T19:55:56.474528Z"
    }
   },
   "outputs": [
    {
     "data": {
      "text/html": [
       "<div>\n",
       "<style scoped>\n",
       "    .dataframe tbody tr th:only-of-type {\n",
       "        vertical-align: middle;\n",
       "    }\n",
       "\n",
       "    .dataframe tbody tr th {\n",
       "        vertical-align: top;\n",
       "    }\n",
       "\n",
       "    .dataframe thead th {\n",
       "        text-align: right;\n",
       "    }\n",
       "</style>\n",
       "<table border=\"1\" class=\"dataframe\">\n",
       "  <thead>\n",
       "    <tr style=\"text-align: right;\">\n",
       "      <th></th>\n",
       "      <th>A</th>\n",
       "      <th>B</th>\n",
       "      <th>CIN</th>\n",
       "      <th>S</th>\n",
       "    </tr>\n",
       "  </thead>\n",
       "  <tbody>\n",
       "    <tr>\n",
       "      <th>0</th>\n",
       "      <td>0</td>\n",
       "      <td>0</td>\n",
       "      <td>0</td>\n",
       "      <td>0</td>\n",
       "    </tr>\n",
       "    <tr>\n",
       "      <th>1</th>\n",
       "      <td>1</td>\n",
       "      <td>0</td>\n",
       "      <td>0</td>\n",
       "      <td>1</td>\n",
       "    </tr>\n",
       "    <tr>\n",
       "      <th>2</th>\n",
       "      <td>2</td>\n",
       "      <td>0</td>\n",
       "      <td>0</td>\n",
       "      <td>2</td>\n",
       "    </tr>\n",
       "    <tr>\n",
       "      <th>3</th>\n",
       "      <td>3</td>\n",
       "      <td>0</td>\n",
       "      <td>0</td>\n",
       "      <td>3</td>\n",
       "    </tr>\n",
       "    <tr>\n",
       "      <th>4</th>\n",
       "      <td>0</td>\n",
       "      <td>1</td>\n",
       "      <td>0</td>\n",
       "      <td>1</td>\n",
       "    </tr>\n",
       "    <tr>\n",
       "      <th>5</th>\n",
       "      <td>1</td>\n",
       "      <td>1</td>\n",
       "      <td>0</td>\n",
       "      <td>2</td>\n",
       "    </tr>\n",
       "    <tr>\n",
       "      <th>6</th>\n",
       "      <td>2</td>\n",
       "      <td>1</td>\n",
       "      <td>0</td>\n",
       "      <td>3</td>\n",
       "    </tr>\n",
       "    <tr>\n",
       "      <th>7</th>\n",
       "      <td>3</td>\n",
       "      <td>1</td>\n",
       "      <td>0</td>\n",
       "      <td>4</td>\n",
       "    </tr>\n",
       "    <tr>\n",
       "      <th>8</th>\n",
       "      <td>0</td>\n",
       "      <td>2</td>\n",
       "      <td>0</td>\n",
       "      <td>2</td>\n",
       "    </tr>\n",
       "    <tr>\n",
       "      <th>9</th>\n",
       "      <td>1</td>\n",
       "      <td>2</td>\n",
       "      <td>0</td>\n",
       "      <td>3</td>\n",
       "    </tr>\n",
       "    <tr>\n",
       "      <th>10</th>\n",
       "      <td>2</td>\n",
       "      <td>2</td>\n",
       "      <td>0</td>\n",
       "      <td>4</td>\n",
       "    </tr>\n",
       "    <tr>\n",
       "      <th>11</th>\n",
       "      <td>3</td>\n",
       "      <td>2</td>\n",
       "      <td>0</td>\n",
       "      <td>5</td>\n",
       "    </tr>\n",
       "    <tr>\n",
       "      <th>12</th>\n",
       "      <td>0</td>\n",
       "      <td>3</td>\n",
       "      <td>0</td>\n",
       "      <td>3</td>\n",
       "    </tr>\n",
       "    <tr>\n",
       "      <th>13</th>\n",
       "      <td>1</td>\n",
       "      <td>3</td>\n",
       "      <td>0</td>\n",
       "      <td>4</td>\n",
       "    </tr>\n",
       "    <tr>\n",
       "      <th>14</th>\n",
       "      <td>2</td>\n",
       "      <td>3</td>\n",
       "      <td>0</td>\n",
       "      <td>5</td>\n",
       "    </tr>\n",
       "    <tr>\n",
       "      <th>15</th>\n",
       "      <td>3</td>\n",
       "      <td>3</td>\n",
       "      <td>0</td>\n",
       "      <td>6</td>\n",
       "    </tr>\n",
       "    <tr>\n",
       "      <th>16</th>\n",
       "      <td>0</td>\n",
       "      <td>0</td>\n",
       "      <td>1</td>\n",
       "      <td>1</td>\n",
       "    </tr>\n",
       "    <tr>\n",
       "      <th>17</th>\n",
       "      <td>1</td>\n",
       "      <td>0</td>\n",
       "      <td>1</td>\n",
       "      <td>2</td>\n",
       "    </tr>\n",
       "    <tr>\n",
       "      <th>18</th>\n",
       "      <td>2</td>\n",
       "      <td>0</td>\n",
       "      <td>1</td>\n",
       "      <td>3</td>\n",
       "    </tr>\n",
       "    <tr>\n",
       "      <th>19</th>\n",
       "      <td>3</td>\n",
       "      <td>0</td>\n",
       "      <td>1</td>\n",
       "      <td>4</td>\n",
       "    </tr>\n",
       "    <tr>\n",
       "      <th>20</th>\n",
       "      <td>0</td>\n",
       "      <td>1</td>\n",
       "      <td>1</td>\n",
       "      <td>2</td>\n",
       "    </tr>\n",
       "    <tr>\n",
       "      <th>21</th>\n",
       "      <td>1</td>\n",
       "      <td>1</td>\n",
       "      <td>1</td>\n",
       "      <td>3</td>\n",
       "    </tr>\n",
       "    <tr>\n",
       "      <th>22</th>\n",
       "      <td>2</td>\n",
       "      <td>1</td>\n",
       "      <td>1</td>\n",
       "      <td>4</td>\n",
       "    </tr>\n",
       "    <tr>\n",
       "      <th>23</th>\n",
       "      <td>3</td>\n",
       "      <td>1</td>\n",
       "      <td>1</td>\n",
       "      <td>5</td>\n",
       "    </tr>\n",
       "    <tr>\n",
       "      <th>24</th>\n",
       "      <td>0</td>\n",
       "      <td>2</td>\n",
       "      <td>1</td>\n",
       "      <td>3</td>\n",
       "    </tr>\n",
       "    <tr>\n",
       "      <th>25</th>\n",
       "      <td>1</td>\n",
       "      <td>2</td>\n",
       "      <td>1</td>\n",
       "      <td>4</td>\n",
       "    </tr>\n",
       "    <tr>\n",
       "      <th>26</th>\n",
       "      <td>2</td>\n",
       "      <td>2</td>\n",
       "      <td>1</td>\n",
       "      <td>5</td>\n",
       "    </tr>\n",
       "    <tr>\n",
       "      <th>27</th>\n",
       "      <td>3</td>\n",
       "      <td>2</td>\n",
       "      <td>1</td>\n",
       "      <td>6</td>\n",
       "    </tr>\n",
       "    <tr>\n",
       "      <th>28</th>\n",
       "      <td>0</td>\n",
       "      <td>3</td>\n",
       "      <td>1</td>\n",
       "      <td>4</td>\n",
       "    </tr>\n",
       "    <tr>\n",
       "      <th>29</th>\n",
       "      <td>1</td>\n",
       "      <td>3</td>\n",
       "      <td>1</td>\n",
       "      <td>5</td>\n",
       "    </tr>\n",
       "    <tr>\n",
       "      <th>30</th>\n",
       "      <td>2</td>\n",
       "      <td>3</td>\n",
       "      <td>1</td>\n",
       "      <td>6</td>\n",
       "    </tr>\n",
       "    <tr>\n",
       "      <th>31</th>\n",
       "      <td>3</td>\n",
       "      <td>3</td>\n",
       "      <td>1</td>\n",
       "      <td>7</td>\n",
       "    </tr>\n",
       "  </tbody>\n",
       "</table>\n",
       "</div>"
      ],
      "text/plain": [
       "    A  B  CIN  S\n",
       "0   0  0    0  0\n",
       "1   1  0    0  1\n",
       "2   2  0    0  2\n",
       "3   3  0    0  3\n",
       "4   0  1    0  1\n",
       "5   1  1    0  2\n",
       "6   2  1    0  3\n",
       "7   3  1    0  4\n",
       "8   0  2    0  2\n",
       "9   1  2    0  3\n",
       "10  2  2    0  4\n",
       "11  3  2    0  5\n",
       "12  0  3    0  3\n",
       "13  1  3    0  4\n",
       "14  2  3    0  5\n",
       "15  3  3    0  6\n",
       "16  0  0    1  1\n",
       "17  1  0    1  2\n",
       "18  2  0    1  3\n",
       "19  3  0    1  4\n",
       "20  0  1    1  2\n",
       "21  1  1    1  3\n",
       "22  2  1    1  4\n",
       "23  3  1    1  5\n",
       "24  0  2    1  3\n",
       "25  1  2    1  4\n",
       "26  2  2    1  5\n",
       "27  3  2    1  6\n",
       "28  0  3    1  4\n",
       "29  1  3    1  5\n",
       "30  2  3    1  6\n",
       "31  3  3    1  7"
      ]
     },
     "execution_count": 28,
     "metadata": {},
     "output_type": "execute_result"
    }
   ],
   "source": [
    "# Convert the waveforms for A, B, Cin, S, and Cout into lists of integers.\n",
    "a_ints = integerize(waveforms, *a)\n",
    "b_ints = integerize(waveforms, *b)\n",
    "cin_ints = integerize(waveforms, cin)\n",
    "# Combine the N-bit sum and carry-out into a single N+1-bit integer.\n",
    "s_ints = integerize(waveforms, *s, cout)\n",
    "\n",
    "# Set the subsample times just before the adder's inputs change.\n",
    "ts = [(i+0.9)@u_ns for i in range(32)]\n",
    "\n",
    "# Subsample the integerized adder waveforms.\n",
    "av, bv, cinv, sv = subsample(ts, waveforms.time, a_ints, b_ints, cin_ints, s_ints)\n",
    "\n",
    "# Display a table of the adder's inputs and corresponding output.\n",
    "pd.DataFrame({'A': av, 'B': bv, 'CIN': cinv, 'S': sv})"
   ]
  },
  {
   "cell_type": "markdown",
   "metadata": {},
   "source": [
    "That's better, but even checking all the table entries is too much work so I'll write a little code to do that:"
   ]
  },
  {
   "cell_type": "code",
   "execution_count": 29,
   "metadata": {
    "ExecuteTime": {
     "end_time": "2021-04-30T19:55:56.705012Z",
     "start_time": "2021-04-30T19:55:56.689605Z"
    }
   },
   "outputs": [
    {
     "name": "stdout",
     "output_type": "stream",
     "text": [
      "No errors found.\n"
     ]
    }
   ],
   "source": [
    "error_flag = False\n",
    "for a, b, cin, s in zip(av, bv, cinv, sv):\n",
    "    if a+b+cin != s:\n",
    "        print(f\"ERROR: {a}+{b}+{cin} != {s}\")\n",
    "        error_flag = True\n",
    "if not error_flag:\n",
    "    print(\"No errors found.\")"
   ]
  },
  {
   "cell_type": "markdown",
   "metadata": {},
   "source": [
    "OK, at this point I'm convinced I have a working two-bit adder. And I can make any size adder I want just by changing the input and output bus widths.\n",
    "\n",
    "Onward!"
   ]
  },
  {
   "cell_type": "markdown",
   "metadata": {},
   "source": [
    "## Fragments of Memory: Latches, Flip-Flops and Registers"
   ]
  },
  {
   "cell_type": "markdown",
   "metadata": {},
   "source": [
    "Cross-coupled logic gates like this [dynamic master-slave flip-flop](http://ece-research.unm.edu/jimp/vlsi/slides/chap5_2.html) are often used for storing bits:"
   ]
  },
  {
   "cell_type": "markdown",
   "metadata": {},
   "source": [
    "![Dynamic latch bit](http://ece-research.unm.edu/jimp/vlsi/slides/chap5_2-22.gif)"
   ]
  },
  {
   "cell_type": "markdown",
   "metadata": {},
   "source": [
    "A problem with this circuit is the use of NMOS FETs as pass gates for the input and feedback latch. Because I'm using 1.8V as my supply voltage, any logic-high signal passing through the NMOS FET is reduced by the approximately 0.6V threshold voltage to around 1.2V. While this is workable, it does lead to some increased propagation delay. Therefore, I built a transmission gate that parallels the NMOS FET with a PMOS FET with the gate of each being driven by complementary signals. This allows signals to pass through without being degraded by the threshold voltage.\n",
    "<a id=\"tx_gate\"/>"
   ]
  },
  {
   "cell_type": "code",
   "execution_count": 30,
   "metadata": {
    "ExecuteTime": {
     "end_time": "2021-04-30T19:55:56.724353Z",
     "start_time": "2021-04-30T19:55:56.706382Z"
    }
   },
   "outputs": [],
   "source": [
    "@package\n",
    "def tx_gate(i, g, g_b, o):\n",
    "    \"\"\"NMOS/PMOS transmission gate. When g is high and g_b is low, i and o are connected.\"\"\"\n",
    "    \n",
    "    # NMOS and PMOS transistors for passing input to output.\n",
    "    qn, qp = nfet(), pfet()\n",
    "    \n",
    "    # Transistor substrate connections.\n",
    "    gnd & qn.b\n",
    "    vdd & qp.b\n",
    "    \n",
    "    # Parallel NMOS/PMOS transistors between the input and output.\n",
    "    i & (qn[\"s,d\"] | qp[\"s,d\"]) & o\n",
    "    \n",
    "    # Connect the gate input to the NMOS and the complement of the gate input\n",
    "    # to the PMOS. Both transistors will conduct when the gate input is high,\n",
    "    # and will block the input from the output when the gate input is low.\n",
    "    g & qn.g\n",
    "    g_b & qp.g"
   ]
  },
  {
   "cell_type": "markdown",
   "metadata": {},
   "source": [
    "The SKiDL implementation for half of this flip-flop creates a latch that allows data to enter and pass through when the write-enable is active, and then latches the data bit with a feedback gate when the write-enable is not asserted:"
   ]
  },
  {
   "cell_type": "code",
   "execution_count": 31,
   "metadata": {
    "ExecuteTime": {
     "end_time": "2021-04-30T19:55:56.744241Z",
     "start_time": "2021-04-30T19:55:56.725657Z"
    }
   },
   "outputs": [],
   "source": [
    "@package\n",
    "def latch_bit(wr=Net(), wr_b=Net(), d=Net(), out_b=Net()):\n",
    "    \n",
    "    in_tx, fb_tx = tx_gate(), tx_gate()\n",
    "    in_inv, fb_inv = inverter(), inverter()\n",
    "    \n",
    "    # Input data comes in through the input gate, goes through an inverter to the data output.\n",
    "    d & in_tx[\"i,o\"] & in_inv[\"a, out\"] & out_b\n",
    "\n",
    "    # The data output is fed back through another inverter and transmission gate to the input inverter.  \n",
    "    out_b & fb_inv[\"a, out\"] & fb_tx[\"i,o\"] & in_inv.a  # Feed output back to input.\n",
    "    \n",
    "    # wr activates the input gate and deactivates the feedback gate, allowing data into the latch.\n",
    "    wr & in_tx.g & fb_tx.g_b\n",
    "\n",
    "    # Complement of wr deactivates the input gate and activates the feedback gate, latching the data.\n",
    "    wr_b & in_tx.g_b & fb_tx.g"
   ]
  },
  {
   "cell_type": "markdown",
   "metadata": {},
   "source": [
    "By cascading two of these latches, I arrive at the complete flip-flop:"
   ]
  },
  {
   "cell_type": "code",
   "execution_count": 32,
   "metadata": {
    "ExecuteTime": {
     "end_time": "2021-04-30T19:55:56.764441Z",
     "start_time": "2021-04-30T19:55:56.745465Z"
    }
   },
   "outputs": [],
   "source": [
    "@package\n",
    "def ms_ff(wr=Net(), d=Net(), out=Net()):\n",
    "    \n",
    "    # Create the master and slave latches.\n",
    "    master, slave = latch_bit(), latch_bit()\n",
    "    \n",
    "    # Data passes from the input through the master to the slave latch and then to the output.\n",
    "    d & master[\"d, out_b\"] & slave[\"d, out_b\"] & out\n",
    "    \n",
    "    # Data continually enters the master latch when the write-enable is low, but gets \n",
    "    # latched when the write-enable goes high..\n",
    "    wr & inverter()[\"a, out\"] & master.wr & slave.wr_b\n",
    "    \n",
    "    # Data from the master passes through the slave when the write-enable goes high, and\n",
    "    # this data stays stable in the slave when the write-enable goes low and new data \n",
    "    # is entering the master.\n",
    "    wr & slave.wr & master.wr_b"
   ]
  },
  {
   "cell_type": "markdown",
   "metadata": {},
   "source": [
    "A simple test shows the flip-flop retains data and the output only changes upon the rising edge of the write-enable (after a small propagation delay):"
   ]
  },
  {
   "cell_type": "code",
   "execution_count": 33,
   "metadata": {
    "ExecuteTime": {
     "end_time": "2021-04-30T19:56:29.335709Z",
     "start_time": "2021-04-30T19:55:56.765550Z"
    }
   },
   "outputs": [
    {
     "name": "stderr",
     "output_type": "stream",
     "text": [
      "\n",
      "No errors or warnings found during netlist generation.\n",
      "\n",
      "Warning: include: has no value, DC 0 assumed\n"
     ]
    },
    {
     "data": {
      "image/png": "[encoded data removed]",
      "text/plain": [
       "<Figure size 432x288 with 3 Axes>"
      ]
     },
     "metadata": {
      "needs_background": "light"
     },
     "output_type": "display_data"
    }
   ],
   "source": [
    "pwr()\n",
    "\n",
    "wr, d, out = Net('WR'), Net('D'), Net('OUT')\n",
    "cntgen(wr, d)\n",
    "\n",
    "ms_ff()[\"wr, d, out\"] += wr, d, out\n",
    "\n",
    "waveforms = do_trans(step_time=0.01@u_ns, end_time=8@u_ns)\n",
    "oscope(waveforms, wr, d, out)"
   ]
  },
  {
   "cell_type": "markdown",
   "metadata": {},
   "source": [
    "Once I have a basic flip-flop, it's easy to build multi-bit registers:"
   ]
  },
  {
   "cell_type": "code",
   "execution_count": 34,
   "metadata": {
    "ExecuteTime": {
     "end_time": "2021-04-30T19:56:29.356870Z",
     "start_time": "2021-04-30T19:56:29.337092Z"
    }
   },
   "outputs": [],
   "source": [
    "@subcircuit\n",
    "def register(wr, d, out):\n",
    "\n",
    "    # Create a flip-flop for each bit in the output bus.\n",
    "    reg_bits = [ms_ff() for _ in out]\n",
    "    \n",
    "    # Connect the inputs and outputs to the flip-flops.\n",
    "    for i, rb in enumerate(reg_bits):\n",
    "        rb[\"wr, d, out\"] += wr, d[i], out[i]"
   ]
  },
  {
   "cell_type": "markdown",
   "metadata": {},
   "source": [
    "## The Simplest State Machine: the Counter"
   ]
  },
  {
   "cell_type": "markdown",
   "metadata": {},
   "source": [
    "With both an adder and a register in hand, a counter is the obvious next step:"
   ]
  },
  {
   "cell_type": "code",
   "execution_count": 35,
   "metadata": {
    "ExecuteTime": {
     "end_time": "2021-04-30T19:56:29.375097Z",
     "start_time": "2021-04-30T19:56:29.358147Z"
    }
   },
   "outputs": [],
   "source": [
    "@subcircuit\n",
    "def cntr(clk, out):\n",
    "    # Create two buses: one for the next counter value, and one that's all zero bits.\n",
    "    width = len(out)\n",
    "    nxt, zero = Bus(width), Bus(width)\n",
    "    \n",
    "    # Provide access to the global ground net.\n",
    "    global gnd\n",
    "    \n",
    "    # Connect all the zero bus bits to ground (that's why it's zero).\n",
    "    gnd += zero\n",
    "\n",
    "    # The next counter value is the current counter value plus 1. Set the\n",
    "    # adder's carry input to 1 and the b input to zero to do this.\n",
    "    adder(a=out, b=zero, cin=vdd, s=nxt, cout=Net())\n",
    "    \n",
    "    # Clock the next counter value into the register on the rising clock edge.\n",
    "    register(wr=clk, d=nxt, out=out)"
   ]
  },
  {
   "cell_type": "markdown",
   "metadata": {},
   "source": [
    "Now just give it a clock and watch it go!"
   ]
  },
  {
   "cell_type": "code",
   "execution_count": 36,
   "metadata": {
    "ExecuteTime": {
     "end_time": "2021-04-30T19:57:08.355434Z",
     "start_time": "2021-04-30T19:56:29.376827Z"
    }
   },
   "outputs": [
    {
     "name": "stderr",
     "output_type": "stream",
     "text": [
      "\n",
      "No errors or warnings found during netlist generation.\n",
      "\n",
      "Warning: include: has no value, DC 0 assumed\n"
     ]
    },
    {
     "data": {
      "image/png": "[encoded data removed]",
      "text/plain": [
       "<Figure size 432x288 with 5 Axes>"
      ]
     },
     "metadata": {
      "needs_background": "light"
     },
     "output_type": "display_data"
    }
   ],
   "source": [
    "pwr()\n",
    "\n",
    "# Generate a clock signal.\n",
    "clk = Net('clk')\n",
    "cntgen(clk)\n",
    "\n",
    "# Create a three-bit counter.\n",
    "cnt = Bus('CNT', 3)\n",
    "cntr(clk, cnt)\n",
    "\n",
    "# Simulate the counter.\n",
    "waveforms = do_trans(step_time=0.01@u_ns, end_time=30@u_ns)\n",
    "\n",
    "# In addition to the clock and counter value, also look at the power supply current.\n",
    "disp_imin, disp_imax = -3@u_mA, 3@u_mA\n",
    "oscope(waveforms, clk, *cnt, vdd_ps)"
   ]
  },
  {
   "cell_type": "markdown",
   "metadata": {},
   "source": [
    "Looking at the counter bits shows its obviously incrementing 0, 1, 2, ..., 7, 0, ... The bottom trace shows the pulses of supply current on every clock edge. (Remember that whole current-pulse-during-input-transition thing?) But how much energy is being used? Multiplying the supply current by its output voltage and summing over time will answer that:"
   ]
  },
  {
   "cell_type": "code",
   "execution_count": 37,
   "metadata": {
    "ExecuteTime": {
     "end_time": "2021-04-30T19:57:08.398895Z",
     "start_time": "2021-04-30T19:57:08.358199Z"
    }
   },
   "outputs": [
    {
     "name": "stdout",
     "output_type": "stream",
     "text": [
      "Total energy = 3.2599093374096875e-12 J\n"
     ]
    }
   ],
   "source": [
    "time_steps = waveforms.time[1:] - waveforms.time[0:-1]\n",
    "ps_current = -waveforms[node(vdd_ps)][0:-1] # Mult by -1 to get current FROM the + terminal of the supply.\n",
    "ps_voltage = waveforms[node(vdd)][0:-1]\n",
    "\n",
    "energy = sum(ps_current * ps_voltage * time_steps)@u_J\n",
    "print(f\"Total energy = {energy}\")"
   ]
  },
  {
   "cell_type": "markdown",
   "metadata": {},
   "source": [
    "As for the total number of transistors in the counter ..."
   ]
  },
  {
   "cell_type": "code",
   "execution_count": 38,
   "metadata": {
    "ExecuteTime": {
     "end_time": "2021-04-30T19:57:08.415867Z",
     "start_time": "2021-04-30T19:57:08.400391Z"
    }
   },
   "outputs": [
    {
     "name": "stdout",
     "output_type": "stream",
     "text": [
      "V: 1\n",
      "PULSEV: 1\n",
      "sky130_fd_pr__nfet_01v8: 81\n",
      "sky130_fd_pr__pfet_01v8: 81\n"
     ]
    }
   ],
   "source": [
    "how_big()"
   ]
  },
  {
   "cell_type": "markdown",
   "metadata": {},
   "source": [
    "## Bonus: an ALU"
   ]
  },
  {
   "cell_type": "markdown",
   "metadata": {},
   "source": [
    "An adder is great and all, but that's all it does: adds. Having a module that adds, subtracts, shifts, and performs logical operations is much cooler! That's an *arithmetic logic unit* (ALU).\n",
    "\n",
    "You might think building an ALU is a lot harder than building an adder, but it's not. It can all be done using an *8-to-1 multiplexer* (mux) as the basic building block:"
   ]
  },
  {
   "cell_type": "markdown",
   "metadata": {},
   "source": [
    "![8-to-1 Multiplexer](https://www.researchgate.net/profile/Senentxu_Lanceros-Mendez/publication/224311777/figure/fig4/AS:393728339529731@1470883559740/81-analog-multiplexer-circuit.png)"
   ]
  },
  {
   "cell_type": "markdown",
   "metadata": {},
   "source": [
    "Now, if you look *real hard* at the circuit above, you'll realize you can smash the sixteen legs of series NMOS/PMOS transistors into just eight legs of series transmission gates like the one I used [above](#tx_gate)."
   ]
  },
  {
   "cell_type": "markdown",
   "metadata": {},
   "source": [
    "I can build a full-adder bit from a pair of 8-to-1 muxes by passing the A, B, and C$_{in}$ inputs as the selectors, and applying the eight-bit truth-table for the S and C$_{out}$ bits to the input of each mux, respectively. Then I'll combine the full-adder bits to build a complete $N$-bit adder as before.\n",
    "\n",
    "But I can also build a subtractor, left-shifter, logical-AND, etc just by changing the truth-table bits that go to each mux. (If you're familiar with [FPGAs](https://en.wikipedia.org/wiki/Field-programmable_gate_array), the mux is essentially the same as their [look-up tables](https://electronics.stackexchange.com/questions/169532/what-is-an-lut-in-fpga).)\n",
    "\n",
    "The complete SKiDL code for an ALU is shown below. (Much easier to create, thankfully, than tediously drawing the circuit shown above.)"
   ]
  },
  {
   "cell_type": "code",
   "execution_count": 39,
   "metadata": {
    "ExecuteTime": {
     "end_time": "2021-04-30T19:57:08.446717Z",
     "start_time": "2021-04-30T19:57:08.418029Z"
    }
   },
   "outputs": [],
   "source": [
    "@package\n",
    "def mux8(in_, i0=Net(), i1=Net(), i2=Net(), out=Net()):\n",
    "    \n",
    "    # Create the complements of the selection inputs.\n",
    "    i0b, i1b, i2b = Net(), Net(), Net()\n",
    "    i0 & inverter()[\"a,out\"] & i0b\n",
    "    i1 & inverter()[\"a,out\"] & i1b\n",
    "    i2 & inverter()[\"a,out\"] & i2b\n",
    "\n",
    "    out_ = Net()  # Output from the eight legs of the mux.\n",
    "    i = 0  # Input bit index.\n",
    "    \n",
    "    # Create the eight legs of the mux by nested iteration of the selection inputs\n",
    "    # and their complements. Each leg is turned on by a different combination of inputs.\n",
    "    for i2_g, i2_g_b in ((i2b, i2), (i2, i2b)):\n",
    "        for i1_g, i1_g_b in ((i1b, i1), (i1, i1b)):\n",
    "            for i0_g, i0_g_b in ((i0b, i0), (i0, i0b)):\n",
    "                \n",
    "                # Place 3 transmission gates in series from input bit i to output.\n",
    "                i0_gate, i1_gate, i2_gate = tx_gate(), tx_gate(), tx_gate()\n",
    "                in_[i] & i0_gate[\"i,o\"] & i1_gate[\"i,o\"] & i2_gate[\"i,o\"] & out_\n",
    "                \n",
    "                # Attach the selection inputs and their complements to the transmission gates.\n",
    "                i0_gate[\"g, g_b\"] += i0_g, i0_g_b\n",
    "                i1_gate[\"g, g_b\"] += i1_g, i1_g_b\n",
    "                i2_gate[\"g, g_b\"] += i2_g, i2_g_b\n",
    "                \n",
    "                i = i+1  # Go to the next input bit.\n",
    "                \n",
    "    # Run the output through two inverters to restore signal strength.\n",
    "    out_ & inverter()[\"a, out\"] & inverter()[\"a, out\"] & out\n",
    "                \n",
    "@subcircuit\n",
    "def alu(a, b, cin, s, cout, s_opcode, c_opcode):\n",
    "    \"\"\"\n",
    "    Multi-bit ALU with the operation determined by the eight-bit codes\n",
    "    that determine the output from the sum and carry muxes.\n",
    "    \"\"\"\n",
    "    \n",
    "    width = len(s)\n",
    "    s_bits = [mux8() for _ in range(width)]\n",
    "    c_bits = [mux8() for _ in range(width)]\n",
    "    \n",
    "    # For each bit in the ALU...\n",
    "    for i in range(width):\n",
    "        \n",
    "        # Connect truth-table bits to the sum and carry mux inputs.\n",
    "        s_bits[i].in_ += s_opcode\n",
    "        c_bits[i].in_ += c_opcode\n",
    "        \n",
    "        # Connect inputs to the sum and carry mux selectors.\n",
    "        s_bits[i][\"i0, i1\"] += a[i], b[i]\n",
    "        c_bits[i][\"i0, i1\"] += a[i], b[i]\n",
    "        \n",
    "        # Connect the carry input of each ALU bit to the carry output of the previous bit.\n",
    "        if i == 0:\n",
    "            s_bits[i].i2 & cin\n",
    "            c_bits[i].i2 & cin\n",
    "        else:\n",
    "            s_bits[i].i2 & c_bits[i-1].out\n",
    "            c_bits[i].i2 & c_bits[i-1].out\n",
    "            \n",
    "        # Connect the output bit of each sum mux to the ALU sum output.\n",
    "        s[i] & s_bits[i].out\n",
    "        \n",
    "    # Connect the carry output from the last ALU bit.\n",
    "    cout & c_bits[-1].out"
   ]
  },
  {
   "cell_type": "markdown",
   "metadata": {},
   "source": [
    "By setting the sum and carry opcodes appropriately, I can build a subtractor from the ALU:"
   ]
  },
  {
   "cell_type": "code",
   "execution_count": 40,
   "metadata": {
    "ExecuteTime": {
     "end_time": "2021-04-30T19:57:08.469069Z",
     "start_time": "2021-04-30T19:57:08.448599Z"
    }
   },
   "outputs": [],
   "source": [
    "@subcircuit\n",
    "def subtractor(a, b, cin, s, cout):\n",
    "    \"\"\"\n",
    "    Create a subtractor by applying the required opcodes to the ALU.\n",
    "    \"\"\"\n",
    "\n",
    "    # Set the opcodes to perform subtraction (a - b - c), so in reality the carry\n",
    "    # is actually a borrow.\n",
    "    # cin  b   a   s  cout\n",
    "    # ====================\n",
    "    #  0   0   0   0   0\n",
    "    #  0   0   1   1   0\n",
    "    #  0   1   0   1   1\n",
    "    #  0   1   1   0   0\n",
    "    #  1   0   0   1   1\n",
    "    #  1   0   1   0   0\n",
    "    #  1   1   0   0   1\n",
    "    #  1   1   1   1   1\n",
    "    one = vdd\n",
    "    zero = gnd\n",
    "    s_opcode = Bus(zero, one, one, zero, one, zero, zero, one)\n",
    "    c_opcode = Bus(zero, zero, one, zero, one, zero, one, one)\n",
    "\n",
    "    # Connect the I/O and opcodes to the ALU.\n",
    "    alu(a=a, b=b, cin=cin, s=s, cout=cout, s_opcode=s_opcode, c_opcode=c_opcode)\n"
   ]
  },
  {
   "cell_type": "markdown",
   "metadata": {},
   "source": [
    "Now I'll test the subtractor just as I did previously with the adder:"
   ]
  },
  {
   "cell_type": "code",
   "execution_count": 41,
   "metadata": {
    "ExecuteTime": {
     "end_time": "2021-04-30T19:57:52.220846Z",
     "start_time": "2021-04-30T19:57:08.470390Z"
    }
   },
   "outputs": [
    {
     "name": "stderr",
     "output_type": "stream",
     "text": [
      "\n",
      "No errors or warnings found during netlist generation.\n",
      "\n",
      "Warning: include: has no value, DC 0 assumed\n"
     ]
    },
    {
     "data": {
      "text/html": [
       "<div>\n",
       "<style scoped>\n",
       "    .dataframe tbody tr th:only-of-type {\n",
       "        vertical-align: middle;\n",
       "    }\n",
       "\n",
       "    .dataframe tbody tr th {\n",
       "        vertical-align: top;\n",
       "    }\n",
       "\n",
       "    .dataframe thead th {\n",
       "        text-align: right;\n",
       "    }\n",
       "</style>\n",
       "<table border=\"1\" class=\"dataframe\">\n",
       "  <thead>\n",
       "    <tr style=\"text-align: right;\">\n",
       "      <th></th>\n",
       "      <th>A</th>\n",
       "      <th>B</th>\n",
       "      <th>CIN</th>\n",
       "      <th>S</th>\n",
       "    </tr>\n",
       "  </thead>\n",
       "  <tbody>\n",
       "    <tr>\n",
       "      <th>0</th>\n",
       "      <td>0</td>\n",
       "      <td>0</td>\n",
       "      <td>0</td>\n",
       "      <td>0</td>\n",
       "    </tr>\n",
       "    <tr>\n",
       "      <th>1</th>\n",
       "      <td>1</td>\n",
       "      <td>0</td>\n",
       "      <td>0</td>\n",
       "      <td>1</td>\n",
       "    </tr>\n",
       "    <tr>\n",
       "      <th>2</th>\n",
       "      <td>2</td>\n",
       "      <td>0</td>\n",
       "      <td>0</td>\n",
       "      <td>2</td>\n",
       "    </tr>\n",
       "    <tr>\n",
       "      <th>3</th>\n",
       "      <td>3</td>\n",
       "      <td>0</td>\n",
       "      <td>0</td>\n",
       "      <td>3</td>\n",
       "    </tr>\n",
       "    <tr>\n",
       "      <th>4</th>\n",
       "      <td>0</td>\n",
       "      <td>1</td>\n",
       "      <td>0</td>\n",
       "      <td>7</td>\n",
       "    </tr>\n",
       "    <tr>\n",
       "      <th>5</th>\n",
       "      <td>1</td>\n",
       "      <td>1</td>\n",
       "      <td>0</td>\n",
       "      <td>0</td>\n",
       "    </tr>\n",
       "    <tr>\n",
       "      <th>6</th>\n",
       "      <td>2</td>\n",
       "      <td>1</td>\n",
       "      <td>0</td>\n",
       "      <td>1</td>\n",
       "    </tr>\n",
       "    <tr>\n",
       "      <th>7</th>\n",
       "      <td>3</td>\n",
       "      <td>1</td>\n",
       "      <td>0</td>\n",
       "      <td>2</td>\n",
       "    </tr>\n",
       "    <tr>\n",
       "      <th>8</th>\n",
       "      <td>0</td>\n",
       "      <td>2</td>\n",
       "      <td>0</td>\n",
       "      <td>6</td>\n",
       "    </tr>\n",
       "    <tr>\n",
       "      <th>9</th>\n",
       "      <td>1</td>\n",
       "      <td>2</td>\n",
       "      <td>0</td>\n",
       "      <td>7</td>\n",
       "    </tr>\n",
       "    <tr>\n",
       "      <th>10</th>\n",
       "      <td>2</td>\n",
       "      <td>2</td>\n",
       "      <td>0</td>\n",
       "      <td>0</td>\n",
       "    </tr>\n",
       "    <tr>\n",
       "      <th>11</th>\n",
       "      <td>3</td>\n",
       "      <td>2</td>\n",
       "      <td>0</td>\n",
       "      <td>1</td>\n",
       "    </tr>\n",
       "    <tr>\n",
       "      <th>12</th>\n",
       "      <td>0</td>\n",
       "      <td>3</td>\n",
       "      <td>0</td>\n",
       "      <td>5</td>\n",
       "    </tr>\n",
       "    <tr>\n",
       "      <th>13</th>\n",
       "      <td>1</td>\n",
       "      <td>3</td>\n",
       "      <td>0</td>\n",
       "      <td>6</td>\n",
       "    </tr>\n",
       "    <tr>\n",
       "      <th>14</th>\n",
       "      <td>2</td>\n",
       "      <td>3</td>\n",
       "      <td>0</td>\n",
       "      <td>7</td>\n",
       "    </tr>\n",
       "    <tr>\n",
       "      <th>15</th>\n",
       "      <td>3</td>\n",
       "      <td>3</td>\n",
       "      <td>0</td>\n",
       "      <td>0</td>\n",
       "    </tr>\n",
       "    <tr>\n",
       "      <th>16</th>\n",
       "      <td>0</td>\n",
       "      <td>0</td>\n",
       "      <td>1</td>\n",
       "      <td>7</td>\n",
       "    </tr>\n",
       "    <tr>\n",
       "      <th>17</th>\n",
       "      <td>1</td>\n",
       "      <td>0</td>\n",
       "      <td>1</td>\n",
       "      <td>0</td>\n",
       "    </tr>\n",
       "    <tr>\n",
       "      <th>18</th>\n",
       "      <td>2</td>\n",
       "      <td>0</td>\n",
       "      <td>1</td>\n",
       "      <td>1</td>\n",
       "    </tr>\n",
       "    <tr>\n",
       "      <th>19</th>\n",
       "      <td>3</td>\n",
       "      <td>0</td>\n",
       "      <td>1</td>\n",
       "      <td>2</td>\n",
       "    </tr>\n",
       "    <tr>\n",
       "      <th>20</th>\n",
       "      <td>0</td>\n",
       "      <td>1</td>\n",
       "      <td>1</td>\n",
       "      <td>6</td>\n",
       "    </tr>\n",
       "    <tr>\n",
       "      <th>21</th>\n",
       "      <td>1</td>\n",
       "      <td>1</td>\n",
       "      <td>1</td>\n",
       "      <td>7</td>\n",
       "    </tr>\n",
       "    <tr>\n",
       "      <th>22</th>\n",
       "      <td>2</td>\n",
       "      <td>1</td>\n",
       "      <td>1</td>\n",
       "      <td>0</td>\n",
       "    </tr>\n",
       "    <tr>\n",
       "      <th>23</th>\n",
       "      <td>3</td>\n",
       "      <td>1</td>\n",
       "      <td>1</td>\n",
       "      <td>1</td>\n",
       "    </tr>\n",
       "    <tr>\n",
       "      <th>24</th>\n",
       "      <td>0</td>\n",
       "      <td>2</td>\n",
       "      <td>1</td>\n",
       "      <td>5</td>\n",
       "    </tr>\n",
       "    <tr>\n",
       "      <th>25</th>\n",
       "      <td>1</td>\n",
       "      <td>2</td>\n",
       "      <td>1</td>\n",
       "      <td>6</td>\n",
       "    </tr>\n",
       "    <tr>\n",
       "      <th>26</th>\n",
       "      <td>2</td>\n",
       "      <td>2</td>\n",
       "      <td>1</td>\n",
       "      <td>7</td>\n",
       "    </tr>\n",
       "    <tr>\n",
       "      <th>27</th>\n",
       "      <td>3</td>\n",
       "      <td>2</td>\n",
       "      <td>1</td>\n",
       "      <td>0</td>\n",
       "    </tr>\n",
       "    <tr>\n",
       "      <th>28</th>\n",
       "      <td>0</td>\n",
       "      <td>3</td>\n",
       "      <td>1</td>\n",
       "      <td>4</td>\n",
       "    </tr>\n",
       "    <tr>\n",
       "      <th>29</th>\n",
       "      <td>1</td>\n",
       "      <td>3</td>\n",
       "      <td>1</td>\n",
       "      <td>5</td>\n",
       "    </tr>\n",
       "    <tr>\n",
       "      <th>30</th>\n",
       "      <td>2</td>\n",
       "      <td>3</td>\n",
       "      <td>1</td>\n",
       "      <td>6</td>\n",
       "    </tr>\n",
       "    <tr>\n",
       "      <th>31</th>\n",
       "      <td>3</td>\n",
       "      <td>3</td>\n",
       "      <td>1</td>\n",
       "      <td>7</td>\n",
       "    </tr>\n",
       "  </tbody>\n",
       "</table>\n",
       "</div>"
      ],
      "text/plain": [
       "    A  B  CIN  S\n",
       "0   0  0    0  0\n",
       "1   1  0    0  1\n",
       "2   2  0    0  2\n",
       "3   3  0    0  3\n",
       "4   0  1    0  7\n",
       "5   1  1    0  0\n",
       "6   2  1    0  1\n",
       "7   3  1    0  2\n",
       "8   0  2    0  6\n",
       "9   1  2    0  7\n",
       "10  2  2    0  0\n",
       "11  3  2    0  1\n",
       "12  0  3    0  5\n",
       "13  1  3    0  6\n",
       "14  2  3    0  7\n",
       "15  3  3    0  0\n",
       "16  0  0    1  7\n",
       "17  1  0    1  0\n",
       "18  2  0    1  1\n",
       "19  3  0    1  2\n",
       "20  0  1    1  6\n",
       "21  1  1    1  7\n",
       "22  2  1    1  0\n",
       "23  3  1    1  1\n",
       "24  0  2    1  5\n",
       "25  1  2    1  6\n",
       "26  2  2    1  7\n",
       "27  3  2    1  0\n",
       "28  0  3    1  4\n",
       "29  1  3    1  5\n",
       "30  2  3    1  6\n",
       "31  3  3    1  7"
      ]
     },
     "execution_count": 41,
     "metadata": {},
     "output_type": "execute_result"
    },
    {
     "data": {
      "image/png": "[encoded data removed]",
      "text/plain": [
       "<Figure size 432x288 with 8 Axes>"
      ]
     },
     "metadata": {
      "needs_background": "light"
     },
     "output_type": "display_data"
    }
   ],
   "source": [
    "pwr()\n",
    "\n",
    "# Create the two-bit input and output buses and the carry input & output nets.\n",
    "w = 2\n",
    "a, b, cin, s, cout = Bus(\"A\",w), Bus(\"B\",w), Net(\"CIN\"), Bus(\"S\",w), Net(\"COUT\")\n",
    "\n",
    "# Drive the A0, A1, B0, B1, and CIN inputs with a five-bit counter.\n",
    "cntgen(*a, *b, cin)\n",
    "\n",
    "# Connect the I/O to the subtractor.\n",
    "subtractor(a=a, b=b, cin=cin, s=s, cout=cout)\n",
    "\n",
    "# Do a transient analysis\n",
    "disp_vmax = 4@u_V\n",
    "waveforms = do_trans(step_time=0.01@u_ns, end_time=32@u_ns)\n",
    "\n",
    "# Display the output waveforms.\n",
    "oscope(waveforms, *a, *b, cin, *s, cout)\n",
    "\n",
    "# Convert the waveforms for A, B, Cin, S, and Cout into lists of integers.\n",
    "a_ints = integerize(waveforms, *a)\n",
    "b_ints = integerize(waveforms, *b)\n",
    "cin_ints = integerize(waveforms, cin)\n",
    "# Combine the N-bit sum and carry-out into a single N+1-bit integer.\n",
    "s_ints = integerize(waveforms, *s, cout)\n",
    "\n",
    "# Set the subsample times right before the ALU's inputs change.\n",
    "ts = [(i+0.9)@u_ns for i in range(32)]\n",
    "\n",
    "# Subsample the integerized ALU waveforms.\n",
    "av, bv, cinv, sv = subsample(ts, waveforms.time, a_ints, b_ints, cin_ints, s_ints)\n",
    "\n",
    "# Display a table of the ALU's inputs and corresponding output.\n",
    "pd.DataFrame({'A': av, 'B': bv, 'CIN': cinv, 'S': sv})"
   ]
  },
  {
   "cell_type": "markdown",
   "metadata": {},
   "source": [
    "## Extra Bonus: a Down Counter"
   ]
  },
  {
   "cell_type": "markdown",
   "metadata": {},
   "source": [
    "Since I went to the trouble to build a subtractor, it would be a waste if I didn't use it to make a down-counter:"
   ]
  },
  {
   "cell_type": "code",
   "execution_count": 42,
   "metadata": {
    "ExecuteTime": {
     "end_time": "2021-04-30T19:57:52.244025Z",
     "start_time": "2021-04-30T19:57:52.223975Z"
    }
   },
   "outputs": [],
   "source": [
    "@subcircuit\n",
    "def down_cntr(clk, out):\n",
    "    # Provide access to the global ground net.\n",
    "    global gnd\n",
    "    \n",
    "    width = len(out)\n",
    "    nxt, zero = Bus(width), Bus(width)\n",
    "    \n",
    "    gnd += zero\n",
    "\n",
    "    # The next counter value is the current counter value minus 1. Set the\n",
    "    # subtractor's borrow input to 1 and the b input to zero to do this.\n",
    "    subtractor(a=out, b=zero, cin=vdd, s=nxt, cout=Net())\n",
    "    \n",
    "    register(wr=clk, d=nxt, out=out)"
   ]
  },
  {
   "cell_type": "code",
   "execution_count": 43,
   "metadata": {
    "ExecuteTime": {
     "end_time": "2021-04-30T19:58:47.505980Z",
     "start_time": "2021-04-30T19:57:52.245250Z"
    }
   },
   "outputs": [
    {
     "name": "stderr",
     "output_type": "stream",
     "text": [
      "\n",
      "No errors or warnings found during netlist generation.\n",
      "\n",
      "Warning: include: has no value, DC 0 assumed\n"
     ]
    },
    {
     "data": {
      "image/png": "[encoded data removed]",
      "text/plain": [
       "<Figure size 432x288 with 5 Axes>"
      ]
     },
     "metadata": {
      "needs_background": "light"
     },
     "output_type": "display_data"
    }
   ],
   "source": [
    "pwr()\n",
    "\n",
    "clk = Net('clk')\n",
    "cntgen(clk)\n",
    "\n",
    "# Create a three-bit down counter.\n",
    "cnt = Bus('CNT', 3)\n",
    "down_cntr(clk, cnt)\n",
    "\n",
    "# Simulate it.\n",
    "waveforms = do_trans(step_time=0.01@u_ns, end_time=30@u_ns)\n",
    "oscope(waveforms, clk, *cnt, vdd_ps)"
   ]
  },
  {
   "cell_type": "markdown",
   "metadata": {},
   "source": [
    "From the waveforms, it's obvious the counter is decrementing: 7, 6, 5, ..., 0, 7, ... so chalk this one up as a win. But how does this compare to the counter I previously built using just an adder?"
   ]
  },
  {
   "cell_type": "markdown",
   "metadata": {},
   "source": [
    "With regards to energy consumption, this ALU-based counter is about 2x worse (7 pJ compared to 3.3 pJ):"
   ]
  },
  {
   "cell_type": "code",
   "execution_count": 44,
   "metadata": {
    "ExecuteTime": {
     "end_time": "2021-04-30T19:58:47.552232Z",
     "start_time": "2021-04-30T19:58:47.507716Z"
    }
   },
   "outputs": [
    {
     "name": "stdout",
     "output_type": "stream",
     "text": [
      "Total energy = 7.008028453275829e-12 J\n"
     ]
    }
   ],
   "source": [
    "time_steps = waveforms.time[1:] - waveforms.time[0:-1]\n",
    "ps_current = -waveforms[node(vdd_ps)][0:-1] # Mult by -1 to get current FROM the + terminal of the supply.\n",
    "ps_voltage = waveforms[node(vdd)][0:-1]\n",
    "\n",
    "energy = sum(ps_current * ps_voltage * time_steps)@u_J\n",
    "print(f\"Total energy = {energy}\")"
   ]
  },
  {
   "cell_type": "markdown",
   "metadata": {},
   "source": [
    "And it uses about 2.5x the number of transistors (402 versus 162):"
   ]
  },
  {
   "cell_type": "code",
   "execution_count": 45,
   "metadata": {
    "ExecuteTime": {
     "end_time": "2021-04-30T19:58:47.573624Z",
     "start_time": "2021-04-30T19:58:47.555325Z"
    }
   },
   "outputs": [
    {
     "name": "stdout",
     "output_type": "stream",
     "text": [
      "V: 1\n",
      "PULSEV: 1\n",
      "sky130_fd_pr__pfet_01v8: 201\n",
      "sky130_fd_pr__nfet_01v8: 201\n"
     ]
    }
   ],
   "source": [
    "how_big()"
   ]
  },
  {
   "cell_type": "markdown",
   "metadata": {},
   "source": [
    "## End of the Line"
   ]
  },
  {
   "cell_type": "markdown",
   "metadata": {},
   "source": [
    "OK, well that was fun.\n",
    "\n",
    "I've gone from extracting a few transistors from the Skywater PDK all the way to constructing an ALU. And I've encapsulated that journey in this notebook so you can do it, too.\n",
    "\n",
    "Is this the way to go about using the PDK? Possibly, if you need some detailed performance measurements on some portion of your design. But for big digital designs, definitely not. Running this entire notebook takes 8 minutes and all of the designs are under 500 transistors. Using an HDL and a digital simulator would be much faster.\n",
    "\n",
    "Now for analog designs ... maybe. SPICE lends itself to the analog domain. And I can envision using some of the functions in [`scipy.optimize`](https://docs.scipy.org/doc/scipy/reference/optimize.html) to fine-tune analog circuits for certain performance criteria. But I haven't produced a concrete example of doing this so it remains in the realm of the imaginary. For now.\n"
   ]
  }
 ],
 "metadata": {
  "kernelspec": {
   "display_name": "Python 3",
   "language": "python",
   "name": "python3"
  },
  "language_info": {
   "codemirror_mode": {
    "name": "ipython",
    "version": 3
   },
   "file_extension": ".py",
   "mimetype": "text/x-python",
   "name": "python",
   "nbconvert_exporter": "python",
   "pygments_lexer": "ipython3",
   "version": "3.8.9"
  },
  "toc": {
   "base_numbering": 1,
   "nav_menu": {
    "height": "286px",
    "width": "296px"
   },
   "number_sections": false,
   "sideBar": false,
   "skip_h1_title": false,
   "title_cell": "Table of Contents",
   "title_sidebar": "Contents",
   "toc_cell": true,
   "toc_position": {
    "height": "344px",
    "left": "31px",
    "top": "110.094px",
    "width": "343px"
   },
   "toc_section_display": false,
   "toc_window_display": false
  }
 },
 "nbformat": 4,
 "nbformat_minor": 4
}
